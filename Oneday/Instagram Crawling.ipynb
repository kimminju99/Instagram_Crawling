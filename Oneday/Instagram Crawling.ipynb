{
 "cells": [
  {
   "cell_type": "code",
   "execution_count": 4,
   "metadata": {},
   "outputs": [
    {
     "name": "stdout",
     "output_type": "stream",
     "text": [
      "Requirement already satisfied: selenium in c:\\users\\mindo\\anaconda3\\lib\\site-packages (3.141.0)\n",
      "Requirement already satisfied: urllib3 in c:\\users\\mindo\\anaconda3\\lib\\site-packages (from selenium) (1.25.9)\n"
     ]
    }
   ],
   "source": [
    "!pip install selenium"
   ]
  },
  {
   "cell_type": "code",
   "execution_count": 5,
   "metadata": {},
   "outputs": [],
   "source": [
    "# 키워드 검색\n",
    "def insta_searching(word):\n",
    "    url = 'https://www.instagram.com/explore/tags/'+word\n",
    "    return url"
   ]
  },
  {
   "cell_type": "code",
   "execution_count": 6,
   "metadata": {},
   "outputs": [],
   "source": [
    "# 첫 번째 게시물 클릭\n",
    "def select_first(driver):\n",
    "    first = driver.find_element_by_css_selector(\"div._9AhH0\")\n",
    "    first.click()\n",
    "    time.sleep(3)\n",
    "    \n",
    "#select_first(driver)"
   ]
  },
  {
   "cell_type": "code",
   "execution_count": 7,
   "metadata": {},
   "outputs": [],
   "source": [
    "# 게시물 정보 가져오기\n",
    "# 본문 내용, 작성 일시, 위치 정보\n",
    "\n",
    "import re\n",
    "from bs4 import BeautifulSoup\n",
    "import unicodedata\n",
    "\n",
    "def get_content(driver):\n",
    "    # html 가져오기\n",
    "    html = driver.page_source\n",
    "    soup = BeautifulSoup(html, 'lxml')\n",
    "    \n",
    "    # 본문 내용 가져오기\n",
    "    try:\n",
    "        content = soup.select('div.C4VMK>span')[0].text\n",
    "        content = unicodedata.normalize('NFC', content)\n",
    "    except:\n",
    "        content = ''\n",
    "    \n",
    "    # 본문의 해시태그 가져오기\n",
    "    tags= re.findall(r'#[^\\s,\\\\]+', content)\n",
    "    \n",
    "    # 작성 일자 정보 가져오기\n",
    "    date = soup.select('time.FH9sR.Nzb55')[0]['title']\n",
    "    \n",
    "    # 위치 정보 가져오기\n",
    "    try:\n",
    "        place = soup.select('div.JF9hh')[0].text\n",
    "        place = unicodedata.normalize('NFC', place)\n",
    "    except:\n",
    "        place = ''\n",
    "        \n",
    "    # 수집한 정보 저장\n",
    "    data = [content, date, place, tags]\n",
    "    \n",
    "    return data\n",
    "\n",
    "#get_content(driver)"
   ]
  },
  {
   "cell_type": "code",
   "execution_count": 8,
   "metadata": {},
   "outputs": [],
   "source": [
    "# 다음 게시물 열기\n",
    "def move_next(driver):\n",
    "    right = driver.find_element_by_css_selector('a.coreSpriteRightPaginationArrow')\n",
    "    right.click()\n",
    "    time.sleep(3)\n",
    "    \n",
    "#move_next(driver)"
   ]
  },
  {
   "cell_type": "code",
   "execution_count": 9,
   "metadata": {},
   "outputs": [],
   "source": [
    "# 인스타그램 로그인\n",
    "def instagram_login(id, pw):\n",
    "    input_id = driver.find_elements_by_css_selector('input._2hvTZ.pexuQ.zyHYP')[0]\n",
    "    input_id.clear()\n",
    "    input_id.send_keys(id)\n",
    "\n",
    "    input_pw = driver.find_elements_by_css_selector('input._2hvTZ.pexuQ.zyHYP')[1]\n",
    "    input_pw.clear()\n",
    "    input_pw.send_keys(pw)\n",
    "    input_pw.submit()\n",
    "    time.sleep(3)\n",
    "    \n",
    "    driver.find_element_by_css_selector('.sqdOP.yWX7d.y3zKF').click()   #로그인정보 저장 '나중에 하기' 버튼 클릭"
   ]
  },
  {
   "cell_type": "code",
   "execution_count": 10,
   "metadata": {},
   "outputs": [
    {
     "ename": "NameError",
     "evalue": "name 'driver' is not defined",
     "output_type": "error",
     "traceback": [
      "\u001b[1;31m---------------------------------------------------------------------------\u001b[0m",
      "\u001b[1;31mNameError\u001b[0m                                 Traceback (most recent call last)",
      "\u001b[1;32m<ipython-input-10-a4e1a337e7d7>\u001b[0m in \u001b[0;36m<module>\u001b[1;34m\u001b[0m\n\u001b[0;32m     40\u001b[0m     \u001b[1;32mreturn\u001b[0m \u001b[0mdata\u001b[0m\u001b[1;33m\u001b[0m\u001b[1;33m\u001b[0m\u001b[0m\n\u001b[0;32m     41\u001b[0m \u001b[1;33m\u001b[0m\u001b[0m\n\u001b[1;32m---> 42\u001b[1;33m \u001b[0mget_data\u001b[0m\u001b[1;33m(\u001b[0m\u001b[0mdriver\u001b[0m\u001b[1;33m)\u001b[0m\u001b[1;33m\u001b[0m\u001b[1;33m\u001b[0m\u001b[0m\n\u001b[0m",
      "\u001b[1;31mNameError\u001b[0m: name 'driver' is not defined"
     ]
    }
   ],
   "source": [
    "# 게시물 정보 가져오기\n",
    "# 닉네임, 작성 일시, 위치 정보, 해시태그\n",
    "\n",
    "import re\n",
    "from bs4 import BeautifulSoup\n",
    "import unicodedata\n",
    "\n",
    "def get_data(driver):\n",
    "    # html 가져오기\n",
    "    html = driver.page_source\n",
    "    soup = BeautifulSoup(html, 'lxml')\n",
    "    \n",
    "    # 본문 내용 가져오기\n",
    "    try:\n",
    "        content = soup.select('div.C4VMK>span')[0].text\n",
    "        content = unicodedata.normalize('NFC', content)\n",
    "    except:\n",
    "        content = ''\n",
    "    \n",
    "    # 본문의 해시태그 가져오기\n",
    "    tags= re.findall(r'#[^\\s,\\\\]+', content)\n",
    "    \n",
    "    # 작성 일자 정보 가져오기\n",
    "    date = soup.select('time.FH9sR.Nzb55')[0]['title']\n",
    "    \n",
    "    # 위치 정보 가져오기\n",
    "    try:\n",
    "        place = soup.select('div.JF9hh')[0].text\n",
    "        place = unicodedata.normalize('NFC', place)\n",
    "    except:\n",
    "        place = ''\n",
    "        \n",
    "    # 이름(사용자 이름) 가져오기\n",
    "    name = driver.find_element_by_css_selector(\".sqdOP.yWX7d._8A5w5.ZIAjV\").text\n",
    "        \n",
    "    \n",
    "    # 수집한 정보 저장\n",
    "    data = [name, date, place, tags]\n",
    "    \n",
    "    return data\n",
    "\n",
    "#get_data(driver)"
   ]
  },
  {
   "cell_type": "code",
   "execution_count": 11,
   "metadata": {},
   "outputs": [],
   "source": [
    "# 여러 게시글 정보 수집하기\n",
    "\n",
    "from selenium import webdriver\n",
    "from bs4 import BeautifulSoup\n",
    "import time\n",
    "import re\n",
    "\n",
    "# 1. 크롬 브라우저 열기 및 로그인\n",
    "driver = webdriver.Chrome('c:/users/mindo/like_lion/oneday/chromedriver.exe')\n",
    "site = 'https://www.instagram.com/'\n",
    "driver.get(site)\n",
    "time.sleep(2)\n",
    "\n",
    "email = 'mindori1019@gmail.com'\n",
    "password = 'alswn4249!'\n",
    "instagram_login(email, password)\n",
    "\n",
    "# 2. 키워드 검색\n",
    "key_word = '원데이클래스'\n",
    "url = insta_searching(key_word)\n",
    "\n",
    "# 3. 검색 페이지 접속\n",
    "driver.get(url)\n",
    "time.sleep(3)\n",
    "\n",
    "# 4. 첫 번째 게시글 열기\n",
    "select_first(driver)\n",
    "\n",
    "# 5. 여러 게시물 수집하기\n",
    "results =[]\n",
    "\n",
    "target = 500  # 크롤링할 게시글 수\n",
    "for i in range(target):\n",
    "    try:\n",
    "        data = get_data(driver)\n",
    "        results.append(data)\n",
    "        move_next(driver)\n",
    "    except:\n",
    "        time.sleep(2)\n",
    "        move_next(driver)\n"
   ]
  },
  {
   "cell_type": "code",
   "execution_count": null,
   "metadata": {},
   "outputs": [],
   "source": [
    "print(results[:2])"
   ]
  },
  {
   "cell_type": "code",
   "execution_count": 12,
   "metadata": {},
   "outputs": [],
   "source": [
    "# 엑셀에 데이터 저장\n",
    "import pandas as pd\n",
    "\n",
    "results_df = pd.DataFrame(results)\n",
    "results_df.columns =  ['name', 'date', 'place', 'tags']\n",
    "results_df.to_excel('c:/users/mindo/like_lion/crawling_instagram.xlsx', index = False)"
   ]
  },
  {
   "cell_type": "code",
   "execution_count": null,
   "metadata": {},
   "outputs": [],
   "source": []
  }
 ],
 "metadata": {
  "kernelspec": {
   "display_name": "Python 3",
   "language": "python",
   "name": "python3"
  },
  "language_info": {
   "codemirror_mode": {
    "name": "ipython",
    "version": 3
   },
   "file_extension": ".py",
   "mimetype": "text/x-python",
   "name": "python",
   "nbconvert_exporter": "python",
   "pygments_lexer": "ipython3",
   "version": "3.8.3"
  }
 },
 "nbformat": 4,
 "nbformat_minor": 4
}
