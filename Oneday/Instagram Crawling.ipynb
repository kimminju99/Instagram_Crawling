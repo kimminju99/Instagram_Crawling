{
 "cells": [
  {
   "cell_type": "code",
   "execution_count": 5,
   "metadata": {},
   "outputs": [
    {
     "name": "stdout",
     "output_type": "stream",
     "text": [
      "Requirement already satisfied: selenium in c:\\users\\mindo\\anaconda3\\lib\\site-packages (3.141.0)\n",
      "Requirement already satisfied: urllib3 in c:\\users\\mindo\\anaconda3\\lib\\site-packages (from selenium) (1.25.9)\n"
     ]
    }
   ],
   "source": [
    "!pip install selenium"
   ]
  },
  {
   "cell_type": "code",
   "execution_count": 35,
   "metadata": {},
   "outputs": [],
   "source": [
    "# 키워드 검색\n",
    "def insta_searching(word):\n",
    "    url = 'https://www.instagram.com/explore/tags/'+word\n",
    "    return url"
   ]
  },
  {
   "cell_type": "code",
   "execution_count": 36,
   "metadata": {},
   "outputs": [],
   "source": [
    "# 첫 번째 게시물 클릭\n",
    "def select_first(driver):\n",
    "    first = driver.find_element_by_css_selector(\"div._9AhH0\")\n",
    "    first.click()\n",
    "    time.sleep(3)\n",
    "    \n",
    "#select_first(driver)"
   ]
  },
  {
   "cell_type": "code",
   "execution_count": 37,
   "metadata": {},
   "outputs": [],
   "source": [
    "# 다음 게시물 열기\n",
    "def move_next(driver):\n",
    "    right = driver.find_element_by_css_selector('a.coreSpriteRightPaginationArrow')\n",
    "    right.click()\n",
    "    time.sleep(3)\n",
    "    \n",
    "#move_next(driver)"
   ]
  },
  {
   "cell_type": "code",
   "execution_count": 38,
   "metadata": {},
   "outputs": [],
   "source": [
    "# 인스타그램 로그인\n",
    "def instagram_login(id,pw):\n",
    "    input_id = driver.find_elements_by_css_selector('input._2hvTZ.pexuQ.zyHYP')[0]\n",
    "    input_id.clear()\n",
    "    input_id.send_keys(id)\n",
    "\n",
    "    input_pw = driver.find_elements_by_css_selector('input._2hvTZ.pexuQ.zyHYP')[1]\n",
    "    input_pw.clear()\n",
    "    input_pw.send_keys(pw)\n",
    "    input_pw.submit()\n",
    "    time.sleep(3)\n",
    "    \n",
    "    driver.find_element_by_css_selector('.sqdOP.yWX7d.y3zKF').click()   #로그인정보 저장 '나중에 하기' 버튼 클릭\n",
    "    driver.find_element_by_css_selector('.aOOlW.HoLwm').click() #알림 설정 '나중에 하기' 버튼 클릭"
   ]
  },
  {
   "cell_type": "code",
   "execution_count": 39,
   "metadata": {},
   "outputs": [],
   "source": [
    "def check_category(content):\n",
    "    category = 0\n",
    "    \n",
    "    drawing = re.findall('드로잉|미술|화실|그림|캘리그라피', content)\n",
    "    cooking = re.search('요리|음료|푸드|커피', content)\n",
    "    baking = re.search('베이킹|디저트|케이크|마카롱|간식', content)\n",
    "    exercise = re.search('운동|건강|필라테스|요가', content)\n",
    "    craft = re.search('공예|라탄|가죽|인형|가방|자수|가방',content)\n",
    "    pottery = re.search('도예|도자기|글라스|세라믹|유리|그릇', content)\n",
    "    soap = re.search('비누|캔들|방향제|향수', content)\n",
    "    etc = re.search('사진|촬영|피아노|음악|꽃|원예', content)\n",
    "    \n",
    "    \n",
    "    if (drawing):\n",
    "        category = 1\n",
    "    elif (baking):\n",
    "        category = 3  # 베이킹이랑 요리랑 겹쳐서 순서 바꿨음\n",
    "    elif (cooking):\n",
    "        category = 2\n",
    "    elif (exercise):\n",
    "        category = 4\n",
    "    elif (craft):\n",
    "        category = 5\n",
    "    elif (pottery):\n",
    "        category = 6\n",
    "    elif (soap):\n",
    "        category = 7\n",
    "    elif (etc):\n",
    "        category = 8\n",
    "    else:\n",
    "        category = 0\n",
    "    \n",
    "    return category"
   ]
  },
  {
   "cell_type": "code",
   "execution_count": 40,
   "metadata": {},
   "outputs": [
    {
     "data": {
      "text/plain": [
       "'비누, 캔들'"
      ]
     },
     "execution_count": 40,
     "metadata": {},
     "output_type": "execute_result"
    }
   ],
   "source": [
    "CATEGORY = {1:'드로잉', 2:'요리, 음료', 3:'베이킹, 디저트', 4: '운동', 5:'공예', 6: '도예', 7:'비누, 캔들', 8:'기타', 0:'없음'}\n",
    "\n",
    "CATEGORY[7]"
   ]
  },
  {
   "cell_type": "code",
   "execution_count": 41,
   "metadata": {},
   "outputs": [],
   "source": [
    "# 게시물 정보 가져오기\n",
    "# 닉네임, 작성 일시, 위치 정보, 해시태그\n",
    "\n",
    "import re\n",
    "from bs4 import BeautifulSoup\n",
    "import unicodedata\n",
    "\n",
    "def get_data(driver, n):\n",
    "    # html 가져오기\n",
    "    html = driver.page_source\n",
    "    soup = BeautifulSoup(html, 'lxml')\n",
    "    \n",
    "    # 본문 내용 가져오기\n",
    "    try:\n",
    "        content = soup.select('div.C4VMK>span')[0].text\n",
    "        content = unicodedata.normalize('NFC', content)\n",
    "    except:\n",
    "        content = ''\n",
    "    \n",
    "    # 본문의 해시태그 가져오기\n",
    "    #tags= re.findall(r'#[^\\s,\\\\]+', content)\n",
    "\n",
    "    \n",
    "    # 위치 정보 가져오기\n",
    "    try:\n",
    "        place = soup.select('div.JF9hh')[0].text\n",
    "        place = unicodedata.normalize('NFC', place)\n",
    "    except:\n",
    "        place = ''\n",
    "        \n",
    "    # 이름(사용자 이름) 가져오기\n",
    "    name = driver.find_element_by_css_selector(\".sqdOP.yWX7d._8A5w5.ZIAjV\").text\n",
    "    \n",
    "    #print(\"get_data : n = \", n)\n",
    "    # 사용자 사진 가져오기\n",
    "    userImgUrl = soup.select('div.Jv7Aj.mArmR.pZp3x')[0].img['src']\n",
    "    #print(userImgUrl)\n",
    "    #userImgUrl =''\n",
    "    \n",
    "    # 사진 가져오기\n",
    "    if (n >= 42): # 한번에 가져올 수 있는 사진 max 42개\n",
    "        n = n%42\n",
    "        driver.execute_script(\"window.scrollTo(0,document.body.scrollHeight);\")\n",
    "        time.sleep(2)\n",
    "        \n",
    "    imgUrl = soup.select('div.KL4Bh')[n].img['src']\n",
    "    #print(imgUrl)\n",
    "    #imgUrl =''\n",
    "    \n",
    "    # 카테고리 설정\n",
    "    try:\n",
    "        check = check_category(content)\n",
    "        category = CATEGORY[check]\n",
    "        time.sleep(3)\n",
    "    except Exception as e:\n",
    "        print(\"여기서 \", e)\n",
    "    \n",
    "\n",
    "    # 예약하기 사이트 (본 계정 화면)\n",
    "    href = soup.select('div.e1e1d')[0].a['href']\n",
    "    reserve_site = \"https://www.instagram.com\"+href\n",
    "    \n",
    "        \n",
    "    # 수집한 정보 저장\n",
    "    #data = [category, imgUrl, name, userImgUrl, date, place, tags]\n",
    "    data = [category, imgUrl, name, userImgUrl, place, reserve_site]\n",
    "    \n",
    "    return data\n",
    "\n",
    "#get_data(driver, 1)"
   ]
  },
  {
   "cell_type": "code",
   "execution_count": 11,
   "metadata": {},
   "outputs": [],
   "source": [
    "# 2. 키워드 검색\n",
    "key_word = '원데이클래스'\n",
    "url = insta_searching(key_word)\n",
    "\n",
    "# 3. 검색 페이지 접속\n",
    "driver.get(url)\n",
    "time.sleep(4)\n",
    "\n",
    "# 4. 첫 번째 게시글 열기\n",
    "select_first(driver)"
   ]
  },
  {
   "cell_type": "code",
   "execution_count": 31,
   "metadata": {},
   "outputs": [
    {
     "name": "stdout",
     "output_type": "stream",
     "text": [
      "/eunsam/\n",
      "https://www.instagram.com/eunsam/\n"
     ]
    }
   ],
   "source": [
    "import re\n",
    "from bs4 import BeautifulSoup\n",
    "import unicodedata\n",
    "\n",
    "html = driver.page_source\n",
    "soup = BeautifulSoup(html, 'lxml')\n",
    "\n",
    "href = soup.select('div.e1e1d')[0].a['href']\n",
    "print(href)\n",
    "\n",
    "reserve = \"https://www.instagram.com\"+href\n",
    "print(reserve)"
   ]
  },
  {
   "cell_type": "code",
   "execution_count": 34,
   "metadata": {},
   "outputs": [
    {
     "name": "stdout",
     "output_type": "stream",
     "text": [
      "은삼’s handmade\n"
     ]
    }
   ],
   "source": [
    "driver.get(reserve)\n",
    "\n",
    "title = driver.find_element_by_css_selector('div.-vDIg>h1').text\n",
    "print(title)"
   ]
  },
  {
   "cell_type": "code",
   "execution_count": 84,
   "metadata": {},
   "outputs": [
    {
     "name": "stdout",
     "output_type": "stream",
     "text": [
      "<div class=\"Jv7Aj mArmR pZp3x\"><div aria-disabled=\"true\" class=\"RR-M- mrq0Z\" role=\"button\" tabindex=\"-1\"><canvas class=\"CfWVH\" height=\"53\" style=\"position: absolute; top: -5px; left: -5px; width: 42px; height: 42px;\" width=\"53\"></canvas><a class=\"_2dbep qNELH kIKUG\" href=\"/biahn.soap/\" style=\"width: 32px; height: 32px;\" tabindex=\"0\"><img alt=\"biahn.soap님의 프로필 사진\" class=\"_6q-tv\" crossorigin=\"anonymous\" data-testid=\"user-avatar\" draggable=\"false\" src=\"https://scontent-gmp1-1.cdninstagram.com/v/t51.2885-19/s150x150/212629673_356187162583892_674493385143858772_n.jpg?_nc_ht=scontent-gmp1-1.cdninstagram.com&amp;_nc_ohc=nPkdTSZ0js0AX_FS5u-&amp;edm=AP_V10EBAAAA&amp;ccb=7-4&amp;oh=da6409db8d1251fca9ca8fd8a017b5cf&amp;oe=611913D1&amp;_nc_sid=4f375e\"/></a></div></div>\n",
      "https://scontent-gmp1-1.cdninstagram.com/v/t51.2885-19/s150x150/212629673_356187162583892_674493385143858772_n.jpg?_nc_ht=scontent-gmp1-1.cdninstagram.com&_nc_ohc=nPkdTSZ0js0AX_FS5u-&edm=AP_V10EBAAAA&ccb=7-4&oh=da6409db8d1251fca9ca8fd8a017b5cf&oe=611913D1&_nc_sid=4f375e\n"
     ]
    }
   ],
   "source": [
    "# html 가져오기\n",
    "html = driver.page_source\n",
    "soup = BeautifulSoup(html, 'lxml')\n",
    "\n",
    "# 사용자 사진 가져오기\n",
    "where = soup.select('div.Jv7Aj.mArmR.pZp3x')[0]\n",
    "print(where)\n",
    "for i in where:\n",
    "    userImgUrl = i.img['src']\n",
    "    print(userImgUrl)"
   ]
  },
  {
   "cell_type": "code",
   "execution_count": 107,
   "metadata": {},
   "outputs": [
    {
     "name": "stdout",
     "output_type": "stream",
     "text": [
      "215\n"
     ]
    }
   ],
   "source": [
    "# html 가져오기\n",
    "html = driver.page_source\n",
    "soup = BeautifulSoup(html, 'lxml')\n",
    "\n",
    "li = []\n",
    "# 사진 가져오기\n",
    "\n",
    "for scroll in range(5):\n",
    "    where = soup.select('div.KL4Bh')\n",
    "\n",
    "    #print(where)\n",
    "    for i in where:\n",
    "        imgUrl = i.img['src']\n",
    "        li.append(imgUrl)\n",
    "\n",
    "    driver.execute_script(\"window.scrollTo(0,document.body.scrollHeight);\")\n",
    "    time.sleep(2)\n",
    "print(len(li))"
   ]
  },
  {
   "cell_type": "code",
   "execution_count": 115,
   "metadata": {},
   "outputs": [
    {
     "name": "stdout",
     "output_type": "stream",
     "text": [
      "0 :  mingmiraclegreen https://scontent-gmp1-1.cdninstagram.com/v/t51.2885-15/e35/p1080x1080/233564092_166647708789273_2773787315642028626_n.jpg?_nc_ht=scontent-gmp1-1.cdninstagram.com&_nc_cat=109&_nc_ohc=wCc4AIHhcUwAX-zfIWj&edm=AP_V10EBAAAA&ccb=7-4&oh=f67ef4db09045529def36bcc3f4c15e0&oe=611926B8&_nc_sid=4f375e\n",
      "1 :  ballet_jini https://scontent-gmp1-1.cdninstagram.com/v/t51.2885-15/sh0.08/e35/s640x640/233684886_2607636926208982_5287449811268705697_n.jpg?_nc_ht=scontent-gmp1-1.cdninstagram.com&_nc_cat=110&_nc_ohc=qBWW_IeN1hwAX_DqO_H&edm=APU89FABAAAA&ccb=7-4&oh=4534c221009bed77839125cb4bd151f4&oe=61174B26&_nc_sid=86f79a\n",
      "2 :  i_cd_i https://scontent-gmp1-1.cdninstagram.com/v/t51.2885-15/e35/233679785_4202144759900090_8464782836325507763_n.jpg?_nc_ht=scontent-gmp1-1.cdninstagram.com&_nc_cat=102&_nc_ohc=FrqpQ3bT2tEAX9ECHTJ&edm=AP_V10EBAAAA&ccb=7-4&oh=9c8e78263c62d54f7fc67112fd302ce5&oe=61180230&_nc_sid=4f375e\n",
      "3 :  on_the1f https://scontent-gmp1-1.cdninstagram.com/v/t51.2885-15/e35/s1080x1080/234136918_929415177611017_3495650214561329753_n.jpg?_nc_ht=scontent-gmp1-1.cdninstagram.com&_nc_cat=101&_nc_ohc=wNus6Y5grjQAX8qS83r&edm=AP_V10EBAAAA&ccb=7-4&oh=2916f91f9c6942af74202d1b1950b041&oe=6117A340&_nc_sid=4f375e\n",
      "4 :  dessertcafe.bonita https://scontent-gmp1-1.cdninstagram.com/v/t51.2885-15/e35/s1080x1080/233776726_632474544390726_4679127218739704780_n.jpg?_nc_ht=scontent-gmp1-1.cdninstagram.com&_nc_cat=106&_nc_ohc=s-Epn-njyXsAX937yq8&edm=AP_V10EBAAAA&ccb=7-4&oh=8d46cf2a408fc2285179e9c71f21e5a7&oe=61175B2F&_nc_sid=4f375e\n"
     ]
    }
   ],
   "source": [
    "from PIL import Image\n",
    "import requests\n",
    "\n",
    "for i in range(target):\n",
    "    imgUrl = results[i][1]\n",
    "    username = results[i][2]\n",
    "    print(i,\": \",username,imgUrl)\n",
    "\n",
    "    im = Image.open(urlopen(imgUrl))\n",
    "    im"
   ]
  },
  {
   "cell_type": "code",
   "execution_count": 117,
   "metadata": {},
   "outputs": [
    {
     "name": "stdout",
     "output_type": "stream",
     "text": [
      "0 :  https://scontent-gmp1-1.cdninstagram.com/v/t51.2885-15/e35/p1080x1080/233564092_166647708789273_2773787315642028626_n.jpg?_nc_ht=scontent-gmp1-1.cdninstagram.com&_nc_cat=109&_nc_ohc=wCc4AIHhcUwAX-zfIWj&edm=AP_V10EBAAAA&ccb=7-4&oh=f67ef4db09045529def36bcc3f4c15e0&oe=611926B8&_nc_sid=4f375e\n",
      "1 :  https://scontent-gmp1-1.cdninstagram.com/v/t51.2885-15/sh0.08/e35/s640x640/233684886_2607636926208982_5287449811268705697_n.jpg?_nc_ht=scontent-gmp1-1.cdninstagram.com&_nc_cat=110&_nc_ohc=qBWW_IeN1hwAX_DqO_H&edm=APU89FABAAAA&ccb=7-4&oh=4534c221009bed77839125cb4bd151f4&oe=61174B26&_nc_sid=86f79a\n",
      "2 :  https://scontent-gmp1-1.cdninstagram.com/v/t51.2885-15/e35/233679785_4202144759900090_8464782836325507763_n.jpg?_nc_ht=scontent-gmp1-1.cdninstagram.com&_nc_cat=102&_nc_ohc=FrqpQ3bT2tEAX9ECHTJ&edm=AP_V10EBAAAA&ccb=7-4&oh=9c8e78263c62d54f7fc67112fd302ce5&oe=61180230&_nc_sid=4f375e\n",
      "3 :  https://scontent-gmp1-1.cdninstagram.com/v/t51.2885-15/e35/s1080x1080/234136918_929415177611017_3495650214561329753_n.jpg?_nc_ht=scontent-gmp1-1.cdninstagram.com&_nc_cat=101&_nc_ohc=wNus6Y5grjQAX8qS83r&edm=AP_V10EBAAAA&ccb=7-4&oh=2916f91f9c6942af74202d1b1950b041&oe=6117A340&_nc_sid=4f375e\n",
      "4 :  https://scontent-gmp1-1.cdninstagram.com/v/t51.2885-15/e35/s1080x1080/233776726_632474544390726_4679127218739704780_n.jpg?_nc_ht=scontent-gmp1-1.cdninstagram.com&_nc_cat=106&_nc_ohc=s-Epn-njyXsAX937yq8&edm=AP_V10EBAAAA&ccb=7-4&oh=8d46cf2a408fc2285179e9c71f21e5a7&oe=61175B2F&_nc_sid=4f375e\n"
     ]
    }
   ],
   "source": [
    "from urllib.request import urlopen\n",
    "\n",
    "for i in range(target):\n",
    "    imgUrl = results[i][1]\n",
    "    print(i,\": \",imgUrl)\n",
    "    with urlopen(imgUrl) as f:\n",
    "        with open('./img/' + results[i][1] + str(i) + '.jpg', 'wb') as h:\n",
    "            img = f.read()\n",
    "            h.write(img)"
   ]
  },
  {
   "cell_type": "code",
   "execution_count": 122,
   "metadata": {},
   "outputs": [
    {
     "name": "stdout",
     "output_type": "stream",
     "text": [
      "0 :  https://scontent-gmp1-1.cdninstagram.com/v/t51.2885-19/s150x150/24127150_146214572807336_1879551480562712576_n.jpg?_nc_ht=scontent-gmp1-1.cdninstagram.com&_nc_ohc=yxhA26mMRQYAX8SMEyI&edm=AP_V10EBAAAA&ccb=7-4&oh=6d91fbb00d6aa529a0ae6f245674a261&oe=611889C5&_nc_sid=4f375e\n",
      "1 :  https://scontent-gmp1-1.cdninstagram.com/v/t51.2885-19/s150x150/191204484_499943227916304_7848707498602884047_n.jpg?_nc_ht=scontent-gmp1-1.cdninstagram.com&_nc_ohc=ymGWqv8ONyAAX89Heez&edm=AP_V10EBAAAA&ccb=7-4&oh=3d35b1a026cd4ba218eaa97bfa16f738&oe=6117F6EF&_nc_sid=4f375e\n",
      "2 :  https://scontent-gmp1-1.cdninstagram.com/v/t51.2885-19/s150x150/157267203_127317015980071_3131037788886948735_n.jpg?_nc_ht=scontent-gmp1-1.cdninstagram.com&_nc_ohc=XMprA9fptEcAX_4Alf7&edm=AP_V10EBAAAA&ccb=7-4&oh=00ef0f1a5c78ef1b4803f0eea4d4fd6b&oe=6118E73D&_nc_sid=4f375e\n",
      "3 :  https://scontent-gmp1-1.cdninstagram.com/v/t51.2885-19/s150x150/132005602_1647893762068942_4854535290532724068_n.jpg?_nc_ht=scontent-gmp1-1.cdninstagram.com&_nc_ohc=9XuOm3ev2LAAX-bbqJu&edm=AP_V10EBAAAA&ccb=7-4&oh=123750ae742c414c0551f4a855d757ab&oe=6118BCAE&_nc_sid=4f375e\n",
      "4 :  https://scontent-gmp1-1.cdninstagram.com/v/t51.2885-19/s150x150/185347935_466148481345189_6850236599952618029_n.jpg?_nc_ht=scontent-gmp1-1.cdninstagram.com&_nc_ohc=cVd9H9vaYH0AX_JYG5g&tn=npVBCKbCYjHKO1BL&edm=AP_V10EBAAAA&ccb=7-4&oh=103cae3341edaf4a9e75c223cc8535d1&oe=61183AC8&_nc_sid=4f375e\n"
     ]
    }
   ],
   "source": [
    "for i in range(target):\n",
    "    userImgUrl = results[i][3]\n",
    "    print(i,\": \",userImgUrl)\n",
    "    with urlopen(userImgUrl) as f:\n",
    "        with open('./user/' + 'user_'+results[i][1] + str(i) + '.jpg', 'wb') as h:\n",
    "            img = f.read()\n",
    "            h.write(img)"
   ]
  },
  {
   "cell_type": "code",
   "execution_count": 42,
   "metadata": {},
   "outputs": [
    {
     "name": "stdout",
     "output_type": "stream",
     "text": [
      "0  :  베이킹, 디저트\n",
      "1  :  없음\n",
      "2  :  비누, 캔들\n",
      "3  :  운동\n",
      "4  :  없음\n"
     ]
    }
   ],
   "source": [
    "# 여러 게시글 정보 수집하기\n",
    "\n",
    "from selenium import webdriver\n",
    "from bs4 import BeautifulSoup\n",
    "import time\n",
    "import re\n",
    "\n",
    "# 1. 크롬 브라우저 열기 및 로그인\n",
    "driver = webdriver.Chrome('c:/users/mindo/like_lion/oneday/chromedriver.exe')\n",
    "site = 'https://www.instagram.com/'\n",
    "driver.get(site)\n",
    "time.sleep(2)\n",
    "\n",
    "email = 'mindori1019@gmail.com'\n",
    "password = 'alswn4249!'\n",
    "instagram_login(email, password)\n",
    "\n",
    "# 2. 키워드 검색\n",
    "key_word = '원데이클래스'\n",
    "url = insta_searching(key_word)\n",
    "\n",
    "# 3. 검색 페이지 접속\n",
    "driver.get(url)\n",
    "time.sleep(4)\n",
    "\n",
    "# 4. 첫 번째 게시글 열기\n",
    "select_first(driver)\n",
    "\n",
    "# 5. 여러 게시물 수집하기\n",
    "results =[]\n",
    "\n",
    "target = 5  # 크롤링할 게시글 수\n",
    "for i in range(target):\n",
    "    try:\n",
    "        data = get_data(driver, i)\n",
    "        if (data[0] == 0):\n",
    "            move_next(driver)\n",
    "        else:\n",
    "            results.append(data)\n",
    "            move_next(driver)\n",
    "        \n",
    "        #print(data[3])\n",
    "        \n",
    "#     except Exception as e:\n",
    "#         print(\"예외?? \",e)\n",
    "#         time.sleep(5)\n",
    "#         move_next(driver)\n",
    "    finally:\n",
    "        print(i,\" : \", data[0]) \n"
   ]
  },
  {
   "cell_type": "code",
   "execution_count": 43,
   "metadata": {},
   "outputs": [
    {
     "name": "stdout",
     "output_type": "stream",
     "text": [
      "https://www.instagram.com/atelier_revoir/\n",
      "https://www.instagram.com/yuel_official/\n",
      "https://www.instagram.com/yuel_official/\n",
      "https://www.instagram.com/ballet_jini/\n",
      "https://www.instagram.com/eunsam/\n"
     ]
    }
   ],
   "source": [
    "for i in results:\n",
    "    print(i[-1])"
   ]
  },
  {
   "cell_type": "code",
   "execution_count": 47,
   "metadata": {
    "scrolled": true
   },
   "outputs": [
    {
     "name": "stdout",
     "output_type": "stream",
     "text": [
      "예외??  list index out of range\n",
      "예외??  list index out of range\n",
      "예외??  list index out of range\n"
     ]
    },
    {
     "ename": "KeyboardInterrupt",
     "evalue": "",
     "output_type": "error",
     "traceback": [
      "\u001b[1;31m---------------------------------------------------------------------------\u001b[0m",
      "\u001b[1;31mKeyboardInterrupt\u001b[0m                         Traceback (most recent call last)",
      "\u001b[1;32m<ipython-input-47-9cfc9a38899c>\u001b[0m in \u001b[0;36m<module>\u001b[1;34m\u001b[0m\n\u001b[0;32m      5\u001b[0m \u001b[1;32mfor\u001b[0m \u001b[0mi\u001b[0m \u001b[1;32min\u001b[0m \u001b[0mrange\u001b[0m\u001b[1;33m(\u001b[0m\u001b[0mtarget\u001b[0m\u001b[1;33m)\u001b[0m\u001b[1;33m:\u001b[0m\u001b[1;33m\u001b[0m\u001b[1;33m\u001b[0m\u001b[0m\n\u001b[0;32m      6\u001b[0m     \u001b[1;32mtry\u001b[0m\u001b[1;33m:\u001b[0m\u001b[1;33m\u001b[0m\u001b[1;33m\u001b[0m\u001b[0m\n\u001b[1;32m----> 7\u001b[1;33m         \u001b[0mdata\u001b[0m \u001b[1;33m=\u001b[0m \u001b[0mget_data\u001b[0m\u001b[1;33m(\u001b[0m\u001b[0mdriver\u001b[0m\u001b[1;33m,\u001b[0m \u001b[0mi\u001b[0m\u001b[1;33m)\u001b[0m\u001b[1;33m\u001b[0m\u001b[1;33m\u001b[0m\u001b[0m\n\u001b[0m\u001b[0;32m      8\u001b[0m         \u001b[1;32mif\u001b[0m \u001b[1;33m(\u001b[0m\u001b[0mdata\u001b[0m\u001b[1;33m[\u001b[0m\u001b[1;36m0\u001b[0m\u001b[1;33m]\u001b[0m \u001b[1;33m==\u001b[0m \u001b[1;34m'없음'\u001b[0m\u001b[1;33m)\u001b[0m\u001b[1;33m:\u001b[0m\u001b[1;33m\u001b[0m\u001b[1;33m\u001b[0m\u001b[0m\n\u001b[0;32m      9\u001b[0m             \u001b[0mmove_next\u001b[0m\u001b[1;33m(\u001b[0m\u001b[0mdriver\u001b[0m\u001b[1;33m)\u001b[0m\u001b[1;33m\u001b[0m\u001b[1;33m\u001b[0m\u001b[0m\n",
      "\u001b[1;32m<ipython-input-41-7b42b266ab72>\u001b[0m in \u001b[0;36mget_data\u001b[1;34m(driver, n)\u001b[0m\n\u001b[0;32m     52\u001b[0m         \u001b[0mcheck\u001b[0m \u001b[1;33m=\u001b[0m \u001b[0mcheck_category\u001b[0m\u001b[1;33m(\u001b[0m\u001b[0mcontent\u001b[0m\u001b[1;33m)\u001b[0m\u001b[1;33m\u001b[0m\u001b[1;33m\u001b[0m\u001b[0m\n\u001b[0;32m     53\u001b[0m         \u001b[0mcategory\u001b[0m \u001b[1;33m=\u001b[0m \u001b[0mCATEGORY\u001b[0m\u001b[1;33m[\u001b[0m\u001b[0mcheck\u001b[0m\u001b[1;33m]\u001b[0m\u001b[1;33m\u001b[0m\u001b[1;33m\u001b[0m\u001b[0m\n\u001b[1;32m---> 54\u001b[1;33m         \u001b[0mtime\u001b[0m\u001b[1;33m.\u001b[0m\u001b[0msleep\u001b[0m\u001b[1;33m(\u001b[0m\u001b[1;36m3\u001b[0m\u001b[1;33m)\u001b[0m\u001b[1;33m\u001b[0m\u001b[1;33m\u001b[0m\u001b[0m\n\u001b[0m\u001b[0;32m     55\u001b[0m     \u001b[1;32mexcept\u001b[0m \u001b[0mException\u001b[0m \u001b[1;32mas\u001b[0m \u001b[0me\u001b[0m\u001b[1;33m:\u001b[0m\u001b[1;33m\u001b[0m\u001b[1;33m\u001b[0m\u001b[0m\n\u001b[0;32m     56\u001b[0m         \u001b[0mprint\u001b[0m\u001b[1;33m(\u001b[0m\u001b[1;34m\"여기서 \"\u001b[0m\u001b[1;33m,\u001b[0m \u001b[0me\u001b[0m\u001b[1;33m)\u001b[0m\u001b[1;33m\u001b[0m\u001b[1;33m\u001b[0m\u001b[0m\n",
      "\u001b[1;31mKeyboardInterrupt\u001b[0m: "
     ]
    }
   ],
   "source": [
    "# 5. 여러 게시물 수집하기\n",
    "results =[]\n",
    "\n",
    "target = 200  # 크롤링할 게시글 수\n",
    "for i in range(target):\n",
    "    try:\n",
    "        data = get_data(driver, i)\n",
    "        if (data[0] == '없음'):\n",
    "            move_next(driver)\n",
    "        elif (data[4] == ''):\n",
    "            #print('장소가 없어여')\n",
    "            move_next(driver)\n",
    "        else:\n",
    "            results.append(data)\n",
    "            move_next(driver)\n",
    "        \n",
    "        #print(data[3])\n",
    "        \n",
    "    except Exception as e:\n",
    "        print(\"예외?? \",e)\n",
    "        time.sleep(5)\n",
    "        move_next(driver)\n",
    "\n",
    "print(len(results))"
   ]
  },
  {
   "cell_type": "code",
   "execution_count": 46,
   "metadata": {},
   "outputs": [],
   "source": [
    "# 엑셀에 데이터 저장\n",
    "import pandas as pd\n",
    "\n",
    "results_df = pd.DataFrame(results)\n",
    "results_df.columns =  ['category','photo','name', 'userphoto', 'place', 'site']\n",
    "results_df.to_excel('c:/users/mindo/like_lion/oneday/oneday_category_real.xlsx', index = False)"
   ]
  },
  {
   "cell_type": "code",
   "execution_count": 54,
   "metadata": {},
   "outputs": [
    {
     "ename": "NoSuchElementException",
     "evalue": "Message: no such element: Unable to locate element: {\"method\":\"css selector\",\"selector\":\"div._9AhH0\"}\n  (Session info: chrome=92.0.4515.131)\n",
     "output_type": "error",
     "traceback": [
      "\u001b[1;31m---------------------------------------------------------------------------\u001b[0m",
      "\u001b[1;31mNoSuchElementException\u001b[0m                    Traceback (most recent call last)",
      "\u001b[1;32m<ipython-input-54-224c48dba717>\u001b[0m in \u001b[0;36m<module>\u001b[1;34m\u001b[0m\n\u001b[0;32m     23\u001b[0m \u001b[1;33m\u001b[0m\u001b[0m\n\u001b[0;32m     24\u001b[0m \u001b[1;31m# 4. 첫 번째 게시글 열기\u001b[0m\u001b[1;33m\u001b[0m\u001b[1;33m\u001b[0m\u001b[1;33m\u001b[0m\u001b[0m\n\u001b[1;32m---> 25\u001b[1;33m \u001b[0mselect_first\u001b[0m\u001b[1;33m(\u001b[0m\u001b[0mdriver\u001b[0m\u001b[1;33m)\u001b[0m\u001b[1;33m\u001b[0m\u001b[1;33m\u001b[0m\u001b[0m\n\u001b[0m",
      "\u001b[1;32m<ipython-input-36-3dd38bc884da>\u001b[0m in \u001b[0;36mselect_first\u001b[1;34m(driver)\u001b[0m\n\u001b[0;32m      1\u001b[0m \u001b[1;31m# 첫 번째 게시물 클릭\u001b[0m\u001b[1;33m\u001b[0m\u001b[1;33m\u001b[0m\u001b[1;33m\u001b[0m\u001b[0m\n\u001b[0;32m      2\u001b[0m \u001b[1;32mdef\u001b[0m \u001b[0mselect_first\u001b[0m\u001b[1;33m(\u001b[0m\u001b[0mdriver\u001b[0m\u001b[1;33m)\u001b[0m\u001b[1;33m:\u001b[0m\u001b[1;33m\u001b[0m\u001b[1;33m\u001b[0m\u001b[0m\n\u001b[1;32m----> 3\u001b[1;33m     \u001b[0mfirst\u001b[0m \u001b[1;33m=\u001b[0m \u001b[0mdriver\u001b[0m\u001b[1;33m.\u001b[0m\u001b[0mfind_element_by_css_selector\u001b[0m\u001b[1;33m(\u001b[0m\u001b[1;34m\"div._9AhH0\"\u001b[0m\u001b[1;33m)\u001b[0m\u001b[1;33m\u001b[0m\u001b[1;33m\u001b[0m\u001b[0m\n\u001b[0m\u001b[0;32m      4\u001b[0m     \u001b[0mfirst\u001b[0m\u001b[1;33m.\u001b[0m\u001b[0mclick\u001b[0m\u001b[1;33m(\u001b[0m\u001b[1;33m)\u001b[0m\u001b[1;33m\u001b[0m\u001b[1;33m\u001b[0m\u001b[0m\n\u001b[0;32m      5\u001b[0m     \u001b[0mtime\u001b[0m\u001b[1;33m.\u001b[0m\u001b[0msleep\u001b[0m\u001b[1;33m(\u001b[0m\u001b[1;36m3\u001b[0m\u001b[1;33m)\u001b[0m\u001b[1;33m\u001b[0m\u001b[1;33m\u001b[0m\u001b[0m\n",
      "\u001b[1;32m~\\anaconda3\\lib\\site-packages\\selenium\\webdriver\\remote\\webdriver.py\u001b[0m in \u001b[0;36mfind_element_by_css_selector\u001b[1;34m(self, css_selector)\u001b[0m\n\u001b[0;32m    596\u001b[0m             \u001b[0melement\u001b[0m \u001b[1;33m=\u001b[0m \u001b[0mdriver\u001b[0m\u001b[1;33m.\u001b[0m\u001b[0mfind_element_by_css_selector\u001b[0m\u001b[1;33m(\u001b[0m\u001b[1;34m'#foo'\u001b[0m\u001b[1;33m)\u001b[0m\u001b[1;33m\u001b[0m\u001b[1;33m\u001b[0m\u001b[0m\n\u001b[0;32m    597\u001b[0m         \"\"\"\n\u001b[1;32m--> 598\u001b[1;33m         \u001b[1;32mreturn\u001b[0m \u001b[0mself\u001b[0m\u001b[1;33m.\u001b[0m\u001b[0mfind_element\u001b[0m\u001b[1;33m(\u001b[0m\u001b[0mby\u001b[0m\u001b[1;33m=\u001b[0m\u001b[0mBy\u001b[0m\u001b[1;33m.\u001b[0m\u001b[0mCSS_SELECTOR\u001b[0m\u001b[1;33m,\u001b[0m \u001b[0mvalue\u001b[0m\u001b[1;33m=\u001b[0m\u001b[0mcss_selector\u001b[0m\u001b[1;33m)\u001b[0m\u001b[1;33m\u001b[0m\u001b[1;33m\u001b[0m\u001b[0m\n\u001b[0m\u001b[0;32m    599\u001b[0m \u001b[1;33m\u001b[0m\u001b[0m\n\u001b[0;32m    600\u001b[0m     \u001b[1;32mdef\u001b[0m \u001b[0mfind_elements_by_css_selector\u001b[0m\u001b[1;33m(\u001b[0m\u001b[0mself\u001b[0m\u001b[1;33m,\u001b[0m \u001b[0mcss_selector\u001b[0m\u001b[1;33m)\u001b[0m\u001b[1;33m:\u001b[0m\u001b[1;33m\u001b[0m\u001b[1;33m\u001b[0m\u001b[0m\n",
      "\u001b[1;32m~\\anaconda3\\lib\\site-packages\\selenium\\webdriver\\remote\\webdriver.py\u001b[0m in \u001b[0;36mfind_element\u001b[1;34m(self, by, value)\u001b[0m\n\u001b[0;32m    974\u001b[0m                 \u001b[0mby\u001b[0m \u001b[1;33m=\u001b[0m \u001b[0mBy\u001b[0m\u001b[1;33m.\u001b[0m\u001b[0mCSS_SELECTOR\u001b[0m\u001b[1;33m\u001b[0m\u001b[1;33m\u001b[0m\u001b[0m\n\u001b[0;32m    975\u001b[0m                 \u001b[0mvalue\u001b[0m \u001b[1;33m=\u001b[0m \u001b[1;34m'[name=\"%s\"]'\u001b[0m \u001b[1;33m%\u001b[0m \u001b[0mvalue\u001b[0m\u001b[1;33m\u001b[0m\u001b[1;33m\u001b[0m\u001b[0m\n\u001b[1;32m--> 976\u001b[1;33m         return self.execute(Command.FIND_ELEMENT, {\n\u001b[0m\u001b[0;32m    977\u001b[0m             \u001b[1;34m'using'\u001b[0m\u001b[1;33m:\u001b[0m \u001b[0mby\u001b[0m\u001b[1;33m,\u001b[0m\u001b[1;33m\u001b[0m\u001b[1;33m\u001b[0m\u001b[0m\n\u001b[0;32m    978\u001b[0m             'value': value})['value']\n",
      "\u001b[1;32m~\\anaconda3\\lib\\site-packages\\selenium\\webdriver\\remote\\webdriver.py\u001b[0m in \u001b[0;36mexecute\u001b[1;34m(self, driver_command, params)\u001b[0m\n\u001b[0;32m    319\u001b[0m         \u001b[0mresponse\u001b[0m \u001b[1;33m=\u001b[0m \u001b[0mself\u001b[0m\u001b[1;33m.\u001b[0m\u001b[0mcommand_executor\u001b[0m\u001b[1;33m.\u001b[0m\u001b[0mexecute\u001b[0m\u001b[1;33m(\u001b[0m\u001b[0mdriver_command\u001b[0m\u001b[1;33m,\u001b[0m \u001b[0mparams\u001b[0m\u001b[1;33m)\u001b[0m\u001b[1;33m\u001b[0m\u001b[1;33m\u001b[0m\u001b[0m\n\u001b[0;32m    320\u001b[0m         \u001b[1;32mif\u001b[0m \u001b[0mresponse\u001b[0m\u001b[1;33m:\u001b[0m\u001b[1;33m\u001b[0m\u001b[1;33m\u001b[0m\u001b[0m\n\u001b[1;32m--> 321\u001b[1;33m             \u001b[0mself\u001b[0m\u001b[1;33m.\u001b[0m\u001b[0merror_handler\u001b[0m\u001b[1;33m.\u001b[0m\u001b[0mcheck_response\u001b[0m\u001b[1;33m(\u001b[0m\u001b[0mresponse\u001b[0m\u001b[1;33m)\u001b[0m\u001b[1;33m\u001b[0m\u001b[1;33m\u001b[0m\u001b[0m\n\u001b[0m\u001b[0;32m    322\u001b[0m             response['value'] = self._unwrap_value(\n\u001b[0;32m    323\u001b[0m                 response.get('value', None))\n",
      "\u001b[1;32m~\\anaconda3\\lib\\site-packages\\selenium\\webdriver\\remote\\errorhandler.py\u001b[0m in \u001b[0;36mcheck_response\u001b[1;34m(self, response)\u001b[0m\n\u001b[0;32m    240\u001b[0m                 \u001b[0malert_text\u001b[0m \u001b[1;33m=\u001b[0m \u001b[0mvalue\u001b[0m\u001b[1;33m[\u001b[0m\u001b[1;34m'alert'\u001b[0m\u001b[1;33m]\u001b[0m\u001b[1;33m.\u001b[0m\u001b[0mget\u001b[0m\u001b[1;33m(\u001b[0m\u001b[1;34m'text'\u001b[0m\u001b[1;33m)\u001b[0m\u001b[1;33m\u001b[0m\u001b[1;33m\u001b[0m\u001b[0m\n\u001b[0;32m    241\u001b[0m             \u001b[1;32mraise\u001b[0m \u001b[0mexception_class\u001b[0m\u001b[1;33m(\u001b[0m\u001b[0mmessage\u001b[0m\u001b[1;33m,\u001b[0m \u001b[0mscreen\u001b[0m\u001b[1;33m,\u001b[0m \u001b[0mstacktrace\u001b[0m\u001b[1;33m,\u001b[0m \u001b[0malert_text\u001b[0m\u001b[1;33m)\u001b[0m\u001b[1;33m\u001b[0m\u001b[1;33m\u001b[0m\u001b[0m\n\u001b[1;32m--> 242\u001b[1;33m         \u001b[1;32mraise\u001b[0m \u001b[0mexception_class\u001b[0m\u001b[1;33m(\u001b[0m\u001b[0mmessage\u001b[0m\u001b[1;33m,\u001b[0m \u001b[0mscreen\u001b[0m\u001b[1;33m,\u001b[0m \u001b[0mstacktrace\u001b[0m\u001b[1;33m)\u001b[0m\u001b[1;33m\u001b[0m\u001b[1;33m\u001b[0m\u001b[0m\n\u001b[0m\u001b[0;32m    243\u001b[0m \u001b[1;33m\u001b[0m\u001b[0m\n\u001b[0;32m    244\u001b[0m     \u001b[1;32mdef\u001b[0m \u001b[0m_value_or_default\u001b[0m\u001b[1;33m(\u001b[0m\u001b[0mself\u001b[0m\u001b[1;33m,\u001b[0m \u001b[0mobj\u001b[0m\u001b[1;33m,\u001b[0m \u001b[0mkey\u001b[0m\u001b[1;33m,\u001b[0m \u001b[0mdefault\u001b[0m\u001b[1;33m)\u001b[0m\u001b[1;33m:\u001b[0m\u001b[1;33m\u001b[0m\u001b[1;33m\u001b[0m\u001b[0m\n",
      "\u001b[1;31mNoSuchElementException\u001b[0m: Message: no such element: Unable to locate element: {\"method\":\"css selector\",\"selector\":\"div._9AhH0\"}\n  (Session info: chrome=92.0.4515.131)\n"
     ]
    }
   ],
   "source": [
    "from selenium import webdriver\n",
    "from bs4 import BeautifulSoup\n",
    "import time\n",
    "import re\n",
    "\n",
    "# 1. 크롬 브라우저 열기 및 로그인\n",
    "driver = webdriver.Chrome('c:/users/mindo/like_lion/oneday/chromedriver.exe')\n",
    "site = 'https://www.instagram.com/'\n",
    "driver.get(site)\n",
    "time.sleep(2)\n",
    "\n",
    "email = 'mindori1019@gmail.com'\n",
    "password = 'alswn4249!'\n",
    "instagram_login(email, password)\n",
    "\n",
    "# 2. 키워드 검색\n",
    "key_word = '원데이클래스'\n",
    "url = insta_searching(key_word)\n",
    "\n",
    "# 3. 검색 페이지 접속\n",
    "driver.get(url)\n",
    "time.sleep(4)\n",
    "\n",
    "# 4. 첫 번째 게시글 열기\n",
    "select_first(driver)"
   ]
  },
  {
   "cell_type": "code",
   "execution_count": 50,
   "metadata": {},
   "outputs": [
    {
     "name": "stdout",
     "output_type": "stream",
     "text": [
      "['https://www.instagram.com/cozykitchen_suwon/', 'https://www.instagram.com/gongbangworld/', 'https://www.instagram.com/green_scent_1004/', 'https://www.instagram.com/dali_soap/', 'https://www.instagram.com/thepin_studio/', 'https://www.instagram.com/simba_petstaurant/', 'https://www.instagram.com/kidsscholar/', 'https://www.instagram.com/wuiloject/', 'https://www.instagram.com/mieum_ceramic/', 'https://www.instagram.com/artstudio_atelier_m/', 'https://www.instagram.com/__atti._.st__/', 'https://www.instagram.com/coobang_plus/', 'https://www.instagram.com/three_leaf_clover7378/', 'https://www.instagram.com/rice_basket/', 'https://www.instagram.com/artmas.studio/', 'https://www.instagram.com/gri.dang/', 'https://www.instagram.com/d.n_ceramics/', 'https://www.instagram.com/yiso_pottery/', 'https://www.instagram.com/san_soul_classwork/', 'https://www.instagram.com/seoro_works/', 'https://www.instagram.com/songlim_ceramic_studio/', 'https://www.instagram.com/hayan.calli/', 'https://www.instagram.com/amigo.soap/', 'https://www.instagram.com/gaeun_0bang/', 'https://www.instagram.com/mbl.studio/', 'https://www.instagram.com/clay_dam/', 'https://www.instagram.com/hi_mr_dalcom/', 'https://www.instagram.com/unee0701/', 'https://www.instagram.com/ballet_jini/', 'https://www.instagram.com/__episode_rattan/', 'https://www.instagram.com/todays_atelier/', 'https://www.instagram.com/first_barista_cc/']\n"
     ]
    }
   ],
   "source": [
    "import pandas as pd\n",
    "\n",
    "xlsx = pd.read_excel('c:/users/mindo/like_lion/oneday/oneday_category_title.xlsx')\n",
    "\n",
    "sites=[]\n",
    "for i in xlsx.site:\n",
    "    sites.append(i)\n",
    "print(sites)"
   ]
  },
  {
   "cell_type": "code",
   "execution_count": 55,
   "metadata": {},
   "outputs": [
    {
     "name": "stdout",
     "output_type": "stream",
     "text": [
      "https://www.instagram.com/cozykitchen_suwon/\n",
      "https://www.instagram.com/gongbangworld/\n",
      "https://www.instagram.com/green_scent_1004/\n",
      "https://www.instagram.com/dali_soap/\n",
      "https://www.instagram.com/thepin_studio/\n",
      "https://www.instagram.com/simba_petstaurant/\n",
      "https://www.instagram.com/kidsscholar/\n",
      "https://www.instagram.com/wuiloject/\n",
      "https://www.instagram.com/mieum_ceramic/\n",
      "https://www.instagram.com/artstudio_atelier_m/\n",
      "https://www.instagram.com/__atti._.st__/\n",
      "https://www.instagram.com/coobang_plus/\n",
      "https://www.instagram.com/three_leaf_clover7378/\n",
      "https://www.instagram.com/rice_basket/\n",
      "https://www.instagram.com/artmas.studio/\n",
      "https://www.instagram.com/gri.dang/\n",
      "https://www.instagram.com/d.n_ceramics/\n",
      "https://www.instagram.com/yiso_pottery/\n",
      "https://www.instagram.com/san_soul_classwork/\n",
      "https://www.instagram.com/seoro_works/\n",
      "https://www.instagram.com/songlim_ceramic_studio/\n",
      "https://www.instagram.com/hayan.calli/\n",
      "https://www.instagram.com/amigo.soap/\n",
      "https://www.instagram.com/gaeun_0bang/\n",
      "https://www.instagram.com/mbl.studio/\n",
      "https://www.instagram.com/clay_dam/\n",
      "https://www.instagram.com/hi_mr_dalcom/\n",
      "https://www.instagram.com/unee0701/\n",
      "https://www.instagram.com/ballet_jini/\n",
      "https://www.instagram.com/__episode_rattan/\n",
      "https://www.instagram.com/todays_atelier/\n",
      "https://www.instagram.com/first_barista_cc/\n",
      "['푸드인플루언서/헬린이의 디저트 공간 코지키친', '공방세상', '그린센트 :-) 광양공방, 캔들공방', '시흥공방/배곧공방/비누공방/원데이클래스/달리솝', '더핀공방', '심바네 펫스토랑 현승연', '키즈스콜라', 'wuiloject 위로젝트', '원데이클래스/도자기공방', 'ART STUDIO 아뜰리에 M', '아띠 아트', '노원 베이킹카페 [쿠방+]', '세잎클로버(수제마카롱.수제쿠키)', '안산 케이크, 앙금플라워 떡케이크 <쌀바구니>', '아트마스 스튜디오', 'GRI:DANG [그리 : 당]', 'Dot on the Nose ㅣ 닷온더노즈 ㅣ 닷엔', '이소도예', '산(山)소울。수업 기록장。', 'Seoro', '송림공방_김지영_도자기공방', '하얀손글씨공방대표(손글씨전문강사)', '구월동 비누공방 아미고솝', '가은공방\\U0001fa85 명지가죽공방+명지은점토금속공방+명지칠보공방', '🛁엠블스튜디오 천안공방/신불당/불당동공방🛁', '도예공방 담(淡)', '안녕달콤씨', '[유니플라워케이크] 인천 부평 앙금플라워떡케이크', 'Hyejin Seo', '에피소드 : 목포라탄, 남악라탄', '오늘의 화실ㅣ반복되는 일상 속 여유로움을 선물하는 공간', '퍼스트바리스타학원[춘천바리스타학원]']\n"
     ]
    }
   ],
   "source": [
    "titles =[]\n",
    "for i in sites:\n",
    "    print(i)\n",
    "    driver.get(i)\n",
    "    time.sleep(3)\n",
    "    title = driver.find_element_by_css_selector('div.-vDIg>h1').text\n",
    "    titles.append(title)\n",
    "print(titles)"
   ]
  },
  {
   "cell_type": "code",
   "execution_count": 59,
   "metadata": {},
   "outputs": [
    {
     "name": "stdout",
     "output_type": "stream",
     "text": [
      "0    NaN\n",
      "1    NaN\n",
      "2    NaN\n",
      "3    NaN\n",
      "4    NaN\n",
      "5    NaN\n",
      "6    NaN\n",
      "7    NaN\n",
      "8    NaN\n",
      "9    NaN\n",
      "10   NaN\n",
      "11   NaN\n",
      "12   NaN\n",
      "13   NaN\n",
      "14   NaN\n",
      "15   NaN\n",
      "16   NaN\n",
      "17   NaN\n",
      "18   NaN\n",
      "19   NaN\n",
      "20   NaN\n",
      "21   NaN\n",
      "22   NaN\n",
      "23   NaN\n",
      "24   NaN\n",
      "25   NaN\n",
      "26   NaN\n",
      "27   NaN\n",
      "28   NaN\n",
      "29   NaN\n",
      "30   NaN\n",
      "31   NaN\n",
      "Name: title, dtype: float64\n",
      "0      푸드인플루언서/헬린이의 디저트 공간 코지키친\n",
      "1                               공방세상\n",
      "2                그린센트 :-) 광양공방, 캔들공방\n",
      "3          시흥공방/배곧공방/비누공방/원데이클래스/달리솝\n",
      "4                        더핀공방\n",
      "5       심바네 펫스토랑 현승연\n",
      "6                        키즈스콜라\n",
      "7                     wuiloject 위로젝트\n",
      "8        원데이클래스/도자기공방\n",
      "9                  ART STUDIO 아뜰리에 M\n",
      "10                             아띠 아트\n",
      "11                    노원 베이킹카페 [쿠방+]\n",
      "12                 세잎클로버(수제마카롱.수제쿠키)\n",
      "13         안산 케이크, 앙금플라워 떡케이크 <쌀바구니>\n",
      "14                 아트마스 스튜디오\n",
      "15             GRI:DANG [그리 : 당]\n",
      "16      Dot on the Nose ㅣ 닷온더노즈 ㅣ 닷엔\n",
      "17                          이소도예\n",
      "18               산(山)소울。수업 기록장。\n",
      "19                             Seoro\n",
      "20                    송림공방_김지영_도자기공방\n",
      "21                하얀손글씨공방대표(손글씨전문강사)\n",
      "22               구월동 비누공방 아미고솝\n",
      "23     가은공방🪅 명지가죽공방+명지은점토금속공방+명지칠보공방\n",
      "24           🛁엠블스튜디오 천안공방/신불당/불당동공방🛁\n",
      "25                         도예공방 담(淡)\n",
      "26                             안녕달콤씨\n",
      "27        [유니플라워케이크] 인천 부평 앙금플라워떡케이크\n",
      "28                        Hyejin Seo\n",
      "29       에피소드 : 목포라탄, 남악라탄\n",
      "30    오늘의 화실ㅣ반복되는 일상 속 여유로움을 선물하는 공간\n",
      "31    퍼스트바리스타학원[춘천바리스타학원]\n",
      "Name: title, dtype: object\n"
     ]
    }
   ],
   "source": [
    "df = pd.read_excel('c:/users/mindo/like_lion/oneday/oneday_category_title.xlsx')\n",
    "print(df['title'])\n",
    "\n",
    "df['title'] = pd.DataFrame(titles)\n",
    "print(df['title'])"
   ]
  },
  {
   "cell_type": "code",
   "execution_count": 60,
   "metadata": {},
   "outputs": [],
   "source": [
    "df.to_excel('c:/users/mindo/like_lion/oneday/oneday_category_final.xlsx', index = False)"
   ]
  },
  {
   "cell_type": "code",
   "execution_count": null,
   "metadata": {},
   "outputs": [],
   "source": []
  }
 ],
 "metadata": {
  "kernelspec": {
   "display_name": "Python 3",
   "language": "python",
   "name": "python3"
  },
  "language_info": {
   "codemirror_mode": {
    "name": "ipython",
    "version": 3
   },
   "file_extension": ".py",
   "mimetype": "text/x-python",
   "name": "python",
   "nbconvert_exporter": "python",
   "pygments_lexer": "ipython3",
   "version": "3.8.3"
  }
 },
 "nbformat": 4,
 "nbformat_minor": 4
}
