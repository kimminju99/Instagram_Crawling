{
 "cells": [
  {
   "cell_type": "code",
   "execution_count": 4,
   "metadata": {},
   "outputs": [
    {
     "name": "stdout",
     "output_type": "stream",
     "text": [
      "Requirement already satisfied: selenium in c:\\users\\mindo\\anaconda3\\lib\\site-packages (3.141.0)\n",
      "Requirement already satisfied: urllib3 in c:\\users\\mindo\\anaconda3\\lib\\site-packages (from selenium) (1.25.9)\n"
     ]
    }
   ],
   "source": [
    "!pip install selenium"
   ]
  },
  {
   "cell_type": "code",
   "execution_count": 5,
   "metadata": {},
   "outputs": [],
   "source": [
    "# 키워드 검색\n",
    "def insta_searching(word):\n",
    "    url = 'https://www.instagram.com/explore/tags/'+word\n",
    "    return url"
   ]
  },
  {
   "cell_type": "code",
   "execution_count": 6,
   "metadata": {},
   "outputs": [],
   "source": [
    "# 첫 번째 게시물 클릭\n",
    "def select_first(driver):\n",
    "    first = driver.find_element_by_css_selector(\"div._9AhH0\")\n",
    "    first.click()\n",
    "    time.sleep(3)\n",
    "    \n",
    "#select_first(driver)"
   ]
  },
  {
   "cell_type": "code",
   "execution_count": 7,
   "metadata": {},
   "outputs": [],
   "source": [
    "# 게시물 정보 가져오기\n",
    "# 본문 내용, 작성 일시, 위치 정보\n",
    "\n",
    "import re\n",
    "from bs4 import BeautifulSoup\n",
    "import unicodedata\n",
    "\n",
    "def get_content(driver):\n",
    "    # html 가져오기\n",
    "    html = driver.page_source\n",
    "    soup = BeautifulSoup(html, 'lxml')\n",
    "    \n",
    "    # 본문 내용 가져오기\n",
    "    try:\n",
    "        content = soup.select('div.C4VMK>span')[0].text\n",
    "        content = unicodedata.normalize('NFC', content)\n",
    "    except:\n",
    "        content = ''\n",
    "    \n",
    "    # 본문의 해시태그 가져오기\n",
    "    tags= re.findall(r'#[^\\s,\\\\]+', content)\n",
    "    \n",
    "    # 작성 일자 정보 가져오기\n",
    "    date = soup.select('time.FH9sR.Nzb55')[0]['title']\n",
    "    \n",
    "    # 위치 정보 가져오기\n",
    "    try:\n",
    "        place = soup.select('div.JF9hh')[0].text\n",
    "        place = unicodedata.normalize('NFC', place)\n",
    "    except:\n",
    "        place = ''\n",
    "        \n",
    "    # 수집한 정보 저장\n",
    "    data = [content, date, place, tags]\n",
    "    \n",
    "    return data\n",
    "\n",
    "#get_content(driver)"
   ]
  },
  {
   "cell_type": "code",
   "execution_count": 8,
   "metadata": {},
   "outputs": [],
   "source": [
    "# 다음 게시물 열기\n",
    "def move_next(driver):\n",
    "    right = driver.find_element_by_css_selector('a.coreSpriteRightPaginationArrow')\n",
    "    right.click()\n",
    "    time.sleep(3)\n",
    "    \n",
    "#move_next(driver)"
   ]
  },
  {
   "cell_type": "code",
   "execution_count": 53,
   "metadata": {},
   "outputs": [],
   "source": [
    "# 인스타그램 로그인\n",
    "def instagram_login(id,pw):\n",
    "    input_id = driver.find_elements_by_css_selector('input._2hvTZ.pexuQ.zyHYP')[0]\n",
    "    input_id.clear()\n",
    "    input_id.send_keys(id)\n",
    "\n",
    "    input_pw = driver.find_elements_by_css_selector('input._2hvTZ.pexuQ.zyHYP')[1]\n",
    "    input_pw.clear()\n",
    "    input_pw.send_keys(pw)\n",
    "    input_pw.submit()\n",
    "    time.sleep(3)\n",
    "    \n",
    "    driver.find_element_by_css_selector('.sqdOP.yWX7d.y3zKF').click()   #로그인정보 저장 '나중에 하기' 버튼 클릭\n",
    "    driver.find_element_by_css_selector('.aOOlW.HoLwm').click() #알림 설정 '나중에 하기' 버튼 클릭"
   ]
  },
  {
   "cell_type": "code",
   "execution_count": 119,
   "metadata": {},
   "outputs": [],
   "source": [
    "# 게시물 정보 가져오기\n",
    "# 닉네임, 작성 일시, 위치 정보, 해시태그\n",
    "\n",
    "import re\n",
    "from bs4 import BeautifulSoup\n",
    "import unicodedata\n",
    "\n",
    "def get_data(driver, n):\n",
    "    # html 가져오기\n",
    "    html = driver.page_source\n",
    "    soup = BeautifulSoup(html, 'lxml')\n",
    "    \n",
    "    # 본문 내용 가져오기\n",
    "    try:\n",
    "        content = soup.select('div.C4VMK>span')[0].text\n",
    "        content = unicodedata.normalize('NFC', content)\n",
    "    except:\n",
    "        content = ''\n",
    "    \n",
    "    # 본문의 해시태그 가져오기\n",
    "    tags= re.findall(r'#[^\\s,\\\\]+', content)\n",
    "\n",
    "    \n",
    "    # 작성 일자 정보 가져오기\n",
    "    date = soup.select('time.FH9sR.Nzb55')[0]['title']\n",
    "    \n",
    "    # 위치 정보 가져오기\n",
    "    try:\n",
    "        place = soup.select('div.JF9hh')[0].text\n",
    "        place = unicodedata.normalize('NFC', place)\n",
    "    except:\n",
    "        place = ''\n",
    "        \n",
    "    # 이름(사용자 이름) 가져오기\n",
    "    name = driver.find_element_by_css_selector(\".sqdOP.yWX7d._8A5w5.ZIAjV\").text\n",
    "    \n",
    "    # 사용자 사진 가져오기\n",
    "    userImgUrl = soup.select('div.Jv7Aj.mArmR.pZp3x')[n].img['src']\n",
    "    print(userImgUrl)\n",
    "    \n",
    "    # 사진 가져오기\n",
    "    imgUrl = soup.select('div.KL4Bh')[n].img['src']\n",
    "    #print(imgUrl)\n",
    "    \n",
    "        \n",
    "    # 수집한 정보 저장\n",
    "    data = [imgUrl, name, userImgUrl, date, place, tags]\n",
    "    \n",
    "    return data\n",
    "\n",
    "#get_data(driver, 1)"
   ]
  },
  {
   "cell_type": "code",
   "execution_count": 120,
   "metadata": {},
   "outputs": [],
   "source": [
    "# 2. 키워드 검색\n",
    "key_word = '원데이클래스'\n",
    "url = insta_searching(key_word)\n",
    "\n",
    "# 3. 검색 페이지 접속\n",
    "driver.get(url)\n",
    "time.sleep(4)\n",
    "\n",
    "# 4. 첫 번째 게시글 열기\n",
    "select_first(driver)"
   ]
  },
  {
   "cell_type": "code",
   "execution_count": 121,
   "metadata": {},
   "outputs": [
    {
     "name": "stdout",
     "output_type": "stream",
     "text": [
      "https://scontent-gmp1-1.cdninstagram.com/v/t51.2885-19/s150x150/24127150_146214572807336_1879551480562712576_n.jpg?_nc_ht=scontent-gmp1-1.cdninstagram.com&_nc_ohc=yxhA26mMRQYAX8SMEyI&edm=AP_V10EBAAAA&ccb=7-4&oh=6d91fbb00d6aa529a0ae6f245674a261&oe=611889C5&_nc_sid=4f375e\n",
      "https://scontent-gmp1-1.cdninstagram.com/v/t51.2885-19/s150x150/191204484_499943227916304_7848707498602884047_n.jpg?_nc_ht=scontent-gmp1-1.cdninstagram.com&_nc_ohc=ymGWqv8ONyAAX89Heez&edm=AP_V10EBAAAA&ccb=7-4&oh=3d35b1a026cd4ba218eaa97bfa16f738&oe=6117F6EF&_nc_sid=4f375e\n",
      "https://scontent-gmp1-1.cdninstagram.com/v/t51.2885-19/s150x150/157267203_127317015980071_3131037788886948735_n.jpg?_nc_ht=scontent-gmp1-1.cdninstagram.com&_nc_ohc=XMprA9fptEcAX_4Alf7&edm=AP_V10EBAAAA&ccb=7-4&oh=00ef0f1a5c78ef1b4803f0eea4d4fd6b&oe=6118E73D&_nc_sid=4f375e\n",
      "https://scontent-gmp1-1.cdninstagram.com/v/t51.2885-19/s150x150/132005602_1647893762068942_4854535290532724068_n.jpg?_nc_ht=scontent-gmp1-1.cdninstagram.com&_nc_ohc=9XuOm3ev2LAAX-bbqJu&edm=AP_V10EBAAAA&ccb=7-4&oh=123750ae742c414c0551f4a855d757ab&oe=6118BCAE&_nc_sid=4f375e\n",
      "https://scontent-gmp1-1.cdninstagram.com/v/t51.2885-19/s150x150/185347935_466148481345189_6850236599952618029_n.jpg?_nc_ht=scontent-gmp1-1.cdninstagram.com&_nc_ohc=cVd9H9vaYH0AX_JYG5g&tn=npVBCKbCYjHKO1BL&edm=AP_V10EBAAAA&ccb=7-4&oh=103cae3341edaf4a9e75c223cc8535d1&oe=61183AC8&_nc_sid=4f375e\n",
      "[['https://scontent-gmp1-1.cdninstagram.com/v/t51.2885-15/e35/p1080x1080/233564092_166647708789273_2773787315642028626_n.jpg?_nc_ht=scontent-gmp1-1.cdninstagram.com&_nc_cat=109&_nc_ohc=wCc4AIHhcUwAX-zfIWj&edm=AP_V10EBAAAA&ccb=7-4&oh=f67ef4db09045529def36bcc3f4c15e0&oe=611926B8&_nc_sid=4f375e', 'jieunmyeong', 'https://scontent-gmp1-1.cdninstagram.com/v/t51.2885-19/s150x150/24127150_146214572807336_1879551480562712576_n.jpg?_nc_ht=scontent-gmp1-1.cdninstagram.com&_nc_ohc=yxhA26mMRQYAX8SMEyI&edm=AP_V10EBAAAA&ccb=7-4&oh=6d91fbb00d6aa529a0ae6f245674a261&oe=611889C5&_nc_sid=4f375e', '2021년 8월 7일', '', ['#문래공방', '#문래공방_mulle', '#다과', '#다과수업', '#귤양갱', '#레몬양갱']], ['https://scontent-gmp1-1.cdninstagram.com/v/t51.2885-15/e35/s1080x1080/233684886_2607636926208982_5287449811268705697_n.jpg?_nc_ht=scontent-gmp1-1.cdninstagram.com&_nc_cat=110&_nc_ohc=qBWW_IeN1hwAX_DqO_H&edm=AP_V10EBAAAA&ccb=7-4&oh=00dd91fd8eacf2b8e4c97cee33b8ccca&oe=6117A60D&_nc_sid=4f375e', 'ondo_official', 'https://scontent-gmp1-1.cdninstagram.com/v/t51.2885-19/s150x150/191204484_499943227916304_7848707498602884047_n.jpg?_nc_ht=scontent-gmp1-1.cdninstagram.com&_nc_ohc=ymGWqv8ONyAAX89Heez&edm=AP_V10EBAAAA&ccb=7-4&oh=3d35b1a026cd4ba218eaa97bfa16f738&oe=6117F6EF&_nc_sid=4f375e', '2021년 8월 7일', '', ['#온도공방하루']], ['https://scontent-gmp1-1.cdninstagram.com/v/t51.2885-15/e35/233679785_4202144759900090_8464782836325507763_n.jpg?_nc_ht=scontent-gmp1-1.cdninstagram.com&_nc_cat=102&_nc_ohc=FrqpQ3bT2tEAX9ECHTJ&edm=AP_V10EBAAAA&ccb=7-4&oh=9c8e78263c62d54f7fc67112fd302ce5&oe=61180230&_nc_sid=4f375e', 'mingmiraclegreen', 'https://scontent-gmp1-1.cdninstagram.com/v/t51.2885-19/s150x150/157267203_127317015980071_3131037788886948735_n.jpg?_nc_ht=scontent-gmp1-1.cdninstagram.com&_nc_ohc=XMprA9fptEcAX_4Alf7&edm=AP_V10EBAAAA&ccb=7-4&oh=00ef0f1a5c78ef1b4803f0eea4d4fd6b&oe=6118E73D&_nc_sid=4f375e', '2021년 8월 7일', '밍기적그린 아뜰리에 Mingmiraclegreen Atelier', []], ['https://scontent-gmp1-1.cdninstagram.com/v/t51.2885-15/e35/s1080x1080/234136918_929415177611017_3495650214561329753_n.jpg?_nc_ht=scontent-gmp1-1.cdninstagram.com&_nc_cat=101&_nc_ohc=wNus6Y5grjQAX8qS83r&edm=AP_V10EBAAAA&ccb=7-4&oh=2916f91f9c6942af74202d1b1950b041&oe=6117A340&_nc_sid=4f375e', 'ballet_jini', 'https://scontent-gmp1-1.cdninstagram.com/v/t51.2885-19/s150x150/132005602_1647893762068942_4854535290532724068_n.jpg?_nc_ht=scontent-gmp1-1.cdninstagram.com&_nc_ohc=9XuOm3ev2LAAX-bbqJu&edm=AP_V10EBAAAA&ccb=7-4&oh=123750ae742c414c0551f4a855d757ab&oe=6118BCAE&_nc_sid=4f375e', '2021년 8월 7일', 'Cheongdam-dong', ['#베디베로#세일#내돈내산', '#찌니쌤#찌니쌤과함께해요#새라쌤#프라이빗필라테스#프라이빗발레#청담동찌니쌤']], ['https://scontent-gmp1-1.cdninstagram.com/v/t51.2885-15/e35/s1080x1080/233776726_632474544390726_4679127218739704780_n.jpg?_nc_ht=scontent-gmp1-1.cdninstagram.com&_nc_cat=106&_nc_ohc=s-Epn-njyXsAX937yq8&edm=AP_V10EBAAAA&ccb=7-4&oh=8d46cf2a408fc2285179e9c71f21e5a7&oe=61175B2F&_nc_sid=4f375e', 'i_cd_i', 'https://scontent-gmp1-1.cdninstagram.com/v/t51.2885-19/s150x150/185347935_466148481345189_6850236599952618029_n.jpg?_nc_ht=scontent-gmp1-1.cdninstagram.com&_nc_ohc=cVd9H9vaYH0AX_JYG5g&tn=npVBCKbCYjHKO1BL&edm=AP_V10EBAAAA&ccb=7-4&oh=103cae3341edaf4a9e75c223cc8535d1&oe=61183AC8&_nc_sid=4f375e', '2021년 8월 7일', '', []]]\n"
     ]
    }
   ],
   "source": [
    "# 5. 여러 게시물 수집하기\n",
    "results =[]\n",
    "\n",
    "target = 5  # 크롤링할 게시글 수\n",
    "for i in range(target):\n",
    "    try:\n",
    "        data = get_data(driver, i)\n",
    "        results.append(data)\n",
    "        move_next(driver)\n",
    "    except:\n",
    "        time.sleep(2)\n",
    "        move_next(driver)\n",
    "        \n",
    "print(results)"
   ]
  },
  {
   "cell_type": "code",
   "execution_count": 115,
   "metadata": {},
   "outputs": [
    {
     "name": "stdout",
     "output_type": "stream",
     "text": [
      "0 :  mingmiraclegreen https://scontent-gmp1-1.cdninstagram.com/v/t51.2885-15/e35/p1080x1080/233564092_166647708789273_2773787315642028626_n.jpg?_nc_ht=scontent-gmp1-1.cdninstagram.com&_nc_cat=109&_nc_ohc=wCc4AIHhcUwAX-zfIWj&edm=AP_V10EBAAAA&ccb=7-4&oh=f67ef4db09045529def36bcc3f4c15e0&oe=611926B8&_nc_sid=4f375e\n",
      "1 :  ballet_jini https://scontent-gmp1-1.cdninstagram.com/v/t51.2885-15/sh0.08/e35/s640x640/233684886_2607636926208982_5287449811268705697_n.jpg?_nc_ht=scontent-gmp1-1.cdninstagram.com&_nc_cat=110&_nc_ohc=qBWW_IeN1hwAX_DqO_H&edm=APU89FABAAAA&ccb=7-4&oh=4534c221009bed77839125cb4bd151f4&oe=61174B26&_nc_sid=86f79a\n",
      "2 :  i_cd_i https://scontent-gmp1-1.cdninstagram.com/v/t51.2885-15/e35/233679785_4202144759900090_8464782836325507763_n.jpg?_nc_ht=scontent-gmp1-1.cdninstagram.com&_nc_cat=102&_nc_ohc=FrqpQ3bT2tEAX9ECHTJ&edm=AP_V10EBAAAA&ccb=7-4&oh=9c8e78263c62d54f7fc67112fd302ce5&oe=61180230&_nc_sid=4f375e\n",
      "3 :  on_the1f https://scontent-gmp1-1.cdninstagram.com/v/t51.2885-15/e35/s1080x1080/234136918_929415177611017_3495650214561329753_n.jpg?_nc_ht=scontent-gmp1-1.cdninstagram.com&_nc_cat=101&_nc_ohc=wNus6Y5grjQAX8qS83r&edm=AP_V10EBAAAA&ccb=7-4&oh=2916f91f9c6942af74202d1b1950b041&oe=6117A340&_nc_sid=4f375e\n",
      "4 :  dessertcafe.bonita https://scontent-gmp1-1.cdninstagram.com/v/t51.2885-15/e35/s1080x1080/233776726_632474544390726_4679127218739704780_n.jpg?_nc_ht=scontent-gmp1-1.cdninstagram.com&_nc_cat=106&_nc_ohc=s-Epn-njyXsAX937yq8&edm=AP_V10EBAAAA&ccb=7-4&oh=8d46cf2a408fc2285179e9c71f21e5a7&oe=61175B2F&_nc_sid=4f375e\n"
     ]
    }
   ],
   "source": [
    "from PIL import Image\n",
    "import requests\n",
    "\n",
    "for i in range(target):\n",
    "    imgUrl = results[i][0]\n",
    "    username = results[i][1]\n",
    "    print(i,\": \",username,imgUrl)\n",
    "\n",
    "    im = Image.open(urlopen(imgUrl))\n",
    "    im"
   ]
  },
  {
   "cell_type": "code",
   "execution_count": 117,
   "metadata": {},
   "outputs": [
    {
     "name": "stdout",
     "output_type": "stream",
     "text": [
      "0 :  https://scontent-gmp1-1.cdninstagram.com/v/t51.2885-15/e35/p1080x1080/233564092_166647708789273_2773787315642028626_n.jpg?_nc_ht=scontent-gmp1-1.cdninstagram.com&_nc_cat=109&_nc_ohc=wCc4AIHhcUwAX-zfIWj&edm=AP_V10EBAAAA&ccb=7-4&oh=f67ef4db09045529def36bcc3f4c15e0&oe=611926B8&_nc_sid=4f375e\n",
      "1 :  https://scontent-gmp1-1.cdninstagram.com/v/t51.2885-15/sh0.08/e35/s640x640/233684886_2607636926208982_5287449811268705697_n.jpg?_nc_ht=scontent-gmp1-1.cdninstagram.com&_nc_cat=110&_nc_ohc=qBWW_IeN1hwAX_DqO_H&edm=APU89FABAAAA&ccb=7-4&oh=4534c221009bed77839125cb4bd151f4&oe=61174B26&_nc_sid=86f79a\n",
      "2 :  https://scontent-gmp1-1.cdninstagram.com/v/t51.2885-15/e35/233679785_4202144759900090_8464782836325507763_n.jpg?_nc_ht=scontent-gmp1-1.cdninstagram.com&_nc_cat=102&_nc_ohc=FrqpQ3bT2tEAX9ECHTJ&edm=AP_V10EBAAAA&ccb=7-4&oh=9c8e78263c62d54f7fc67112fd302ce5&oe=61180230&_nc_sid=4f375e\n",
      "3 :  https://scontent-gmp1-1.cdninstagram.com/v/t51.2885-15/e35/s1080x1080/234136918_929415177611017_3495650214561329753_n.jpg?_nc_ht=scontent-gmp1-1.cdninstagram.com&_nc_cat=101&_nc_ohc=wNus6Y5grjQAX8qS83r&edm=AP_V10EBAAAA&ccb=7-4&oh=2916f91f9c6942af74202d1b1950b041&oe=6117A340&_nc_sid=4f375e\n",
      "4 :  https://scontent-gmp1-1.cdninstagram.com/v/t51.2885-15/e35/s1080x1080/233776726_632474544390726_4679127218739704780_n.jpg?_nc_ht=scontent-gmp1-1.cdninstagram.com&_nc_cat=106&_nc_ohc=s-Epn-njyXsAX937yq8&edm=AP_V10EBAAAA&ccb=7-4&oh=8d46cf2a408fc2285179e9c71f21e5a7&oe=61175B2F&_nc_sid=4f375e\n"
     ]
    }
   ],
   "source": [
    "from urllib.request import urlopen\n",
    "\n",
    "for i in range(target):\n",
    "    imgUrl = results[i][0]\n",
    "    print(i,\": \",imgUrl)\n",
    "    with urlopen(imgUrl) as f:\n",
    "        with open('./img/' + results[i][1] + str(i) + '.jpg', 'wb') as h:\n",
    "            img = f.read()\n",
    "            h.write(img)"
   ]
  },
  {
   "cell_type": "code",
   "execution_count": 122,
   "metadata": {},
   "outputs": [
    {
     "name": "stdout",
     "output_type": "stream",
     "text": [
      "0 :  https://scontent-gmp1-1.cdninstagram.com/v/t51.2885-19/s150x150/24127150_146214572807336_1879551480562712576_n.jpg?_nc_ht=scontent-gmp1-1.cdninstagram.com&_nc_ohc=yxhA26mMRQYAX8SMEyI&edm=AP_V10EBAAAA&ccb=7-4&oh=6d91fbb00d6aa529a0ae6f245674a261&oe=611889C5&_nc_sid=4f375e\n",
      "1 :  https://scontent-gmp1-1.cdninstagram.com/v/t51.2885-19/s150x150/191204484_499943227916304_7848707498602884047_n.jpg?_nc_ht=scontent-gmp1-1.cdninstagram.com&_nc_ohc=ymGWqv8ONyAAX89Heez&edm=AP_V10EBAAAA&ccb=7-4&oh=3d35b1a026cd4ba218eaa97bfa16f738&oe=6117F6EF&_nc_sid=4f375e\n",
      "2 :  https://scontent-gmp1-1.cdninstagram.com/v/t51.2885-19/s150x150/157267203_127317015980071_3131037788886948735_n.jpg?_nc_ht=scontent-gmp1-1.cdninstagram.com&_nc_ohc=XMprA9fptEcAX_4Alf7&edm=AP_V10EBAAAA&ccb=7-4&oh=00ef0f1a5c78ef1b4803f0eea4d4fd6b&oe=6118E73D&_nc_sid=4f375e\n",
      "3 :  https://scontent-gmp1-1.cdninstagram.com/v/t51.2885-19/s150x150/132005602_1647893762068942_4854535290532724068_n.jpg?_nc_ht=scontent-gmp1-1.cdninstagram.com&_nc_ohc=9XuOm3ev2LAAX-bbqJu&edm=AP_V10EBAAAA&ccb=7-4&oh=123750ae742c414c0551f4a855d757ab&oe=6118BCAE&_nc_sid=4f375e\n",
      "4 :  https://scontent-gmp1-1.cdninstagram.com/v/t51.2885-19/s150x150/185347935_466148481345189_6850236599952618029_n.jpg?_nc_ht=scontent-gmp1-1.cdninstagram.com&_nc_ohc=cVd9H9vaYH0AX_JYG5g&tn=npVBCKbCYjHKO1BL&edm=AP_V10EBAAAA&ccb=7-4&oh=103cae3341edaf4a9e75c223cc8535d1&oe=61183AC8&_nc_sid=4f375e\n"
     ]
    }
   ],
   "source": [
    "for i in range(target):\n",
    "    userImgUrl = results[i][2]\n",
    "    print(i,\": \",userImgUrl)\n",
    "    with urlopen(userImgUrl) as f:\n",
    "        with open('./user/' + 'user_'+results[i][1] + str(i) + '.jpg', 'wb') as h:\n",
    "            img = f.read()\n",
    "            h.write(img)"
   ]
  },
  {
   "cell_type": "code",
   "execution_count": 41,
   "metadata": {},
   "outputs": [
    {
     "ename": "WebDriverException",
     "evalue": "Message: chrome not reachable\n  (Session info: chrome=92.0.4515.131)\n",
     "output_type": "error",
     "traceback": [
      "\u001b[1;31m---------------------------------------------------------------------------\u001b[0m",
      "\u001b[1;31mWebDriverException\u001b[0m                        Traceback (most recent call last)",
      "\u001b[1;32m<ipython-input-41-715bda70f63f>\u001b[0m in \u001b[0;36m<module>\u001b[1;34m\u001b[0m\n\u001b[0;32m     25\u001b[0m \u001b[1;33m\u001b[0m\u001b[0m\n\u001b[0;32m     26\u001b[0m \u001b[1;31m# 4. 첫 번째 게시글 열기\u001b[0m\u001b[1;33m\u001b[0m\u001b[1;33m\u001b[0m\u001b[1;33m\u001b[0m\u001b[0m\n\u001b[1;32m---> 27\u001b[1;33m \u001b[0mselect_first\u001b[0m\u001b[1;33m(\u001b[0m\u001b[0mdriver\u001b[0m\u001b[1;33m)\u001b[0m\u001b[1;33m\u001b[0m\u001b[1;33m\u001b[0m\u001b[0m\n\u001b[0m\u001b[0;32m     28\u001b[0m \u001b[1;33m\u001b[0m\u001b[0m\n\u001b[0;32m     29\u001b[0m \u001b[1;31m# 5. 여러 게시물 수집하기\u001b[0m\u001b[1;33m\u001b[0m\u001b[1;33m\u001b[0m\u001b[1;33m\u001b[0m\u001b[0m\n",
      "\u001b[1;32m<ipython-input-6-3dd38bc884da>\u001b[0m in \u001b[0;36mselect_first\u001b[1;34m(driver)\u001b[0m\n\u001b[0;32m      1\u001b[0m \u001b[1;31m# 첫 번째 게시물 클릭\u001b[0m\u001b[1;33m\u001b[0m\u001b[1;33m\u001b[0m\u001b[1;33m\u001b[0m\u001b[0m\n\u001b[0;32m      2\u001b[0m \u001b[1;32mdef\u001b[0m \u001b[0mselect_first\u001b[0m\u001b[1;33m(\u001b[0m\u001b[0mdriver\u001b[0m\u001b[1;33m)\u001b[0m\u001b[1;33m:\u001b[0m\u001b[1;33m\u001b[0m\u001b[1;33m\u001b[0m\u001b[0m\n\u001b[1;32m----> 3\u001b[1;33m     \u001b[0mfirst\u001b[0m \u001b[1;33m=\u001b[0m \u001b[0mdriver\u001b[0m\u001b[1;33m.\u001b[0m\u001b[0mfind_element_by_css_selector\u001b[0m\u001b[1;33m(\u001b[0m\u001b[1;34m\"div._9AhH0\"\u001b[0m\u001b[1;33m)\u001b[0m\u001b[1;33m\u001b[0m\u001b[1;33m\u001b[0m\u001b[0m\n\u001b[0m\u001b[0;32m      4\u001b[0m     \u001b[0mfirst\u001b[0m\u001b[1;33m.\u001b[0m\u001b[0mclick\u001b[0m\u001b[1;33m(\u001b[0m\u001b[1;33m)\u001b[0m\u001b[1;33m\u001b[0m\u001b[1;33m\u001b[0m\u001b[0m\n\u001b[0;32m      5\u001b[0m     \u001b[0mtime\u001b[0m\u001b[1;33m.\u001b[0m\u001b[0msleep\u001b[0m\u001b[1;33m(\u001b[0m\u001b[1;36m3\u001b[0m\u001b[1;33m)\u001b[0m\u001b[1;33m\u001b[0m\u001b[1;33m\u001b[0m\u001b[0m\n",
      "\u001b[1;32m~\\anaconda3\\lib\\site-packages\\selenium\\webdriver\\remote\\webdriver.py\u001b[0m in \u001b[0;36mfind_element_by_css_selector\u001b[1;34m(self, css_selector)\u001b[0m\n\u001b[0;32m    596\u001b[0m             \u001b[0melement\u001b[0m \u001b[1;33m=\u001b[0m \u001b[0mdriver\u001b[0m\u001b[1;33m.\u001b[0m\u001b[0mfind_element_by_css_selector\u001b[0m\u001b[1;33m(\u001b[0m\u001b[1;34m'#foo'\u001b[0m\u001b[1;33m)\u001b[0m\u001b[1;33m\u001b[0m\u001b[1;33m\u001b[0m\u001b[0m\n\u001b[0;32m    597\u001b[0m         \"\"\"\n\u001b[1;32m--> 598\u001b[1;33m         \u001b[1;32mreturn\u001b[0m \u001b[0mself\u001b[0m\u001b[1;33m.\u001b[0m\u001b[0mfind_element\u001b[0m\u001b[1;33m(\u001b[0m\u001b[0mby\u001b[0m\u001b[1;33m=\u001b[0m\u001b[0mBy\u001b[0m\u001b[1;33m.\u001b[0m\u001b[0mCSS_SELECTOR\u001b[0m\u001b[1;33m,\u001b[0m \u001b[0mvalue\u001b[0m\u001b[1;33m=\u001b[0m\u001b[0mcss_selector\u001b[0m\u001b[1;33m)\u001b[0m\u001b[1;33m\u001b[0m\u001b[1;33m\u001b[0m\u001b[0m\n\u001b[0m\u001b[0;32m    599\u001b[0m \u001b[1;33m\u001b[0m\u001b[0m\n\u001b[0;32m    600\u001b[0m     \u001b[1;32mdef\u001b[0m \u001b[0mfind_elements_by_css_selector\u001b[0m\u001b[1;33m(\u001b[0m\u001b[0mself\u001b[0m\u001b[1;33m,\u001b[0m \u001b[0mcss_selector\u001b[0m\u001b[1;33m)\u001b[0m\u001b[1;33m:\u001b[0m\u001b[1;33m\u001b[0m\u001b[1;33m\u001b[0m\u001b[0m\n",
      "\u001b[1;32m~\\anaconda3\\lib\\site-packages\\selenium\\webdriver\\remote\\webdriver.py\u001b[0m in \u001b[0;36mfind_element\u001b[1;34m(self, by, value)\u001b[0m\n\u001b[0;32m    974\u001b[0m                 \u001b[0mby\u001b[0m \u001b[1;33m=\u001b[0m \u001b[0mBy\u001b[0m\u001b[1;33m.\u001b[0m\u001b[0mCSS_SELECTOR\u001b[0m\u001b[1;33m\u001b[0m\u001b[1;33m\u001b[0m\u001b[0m\n\u001b[0;32m    975\u001b[0m                 \u001b[0mvalue\u001b[0m \u001b[1;33m=\u001b[0m \u001b[1;34m'[name=\"%s\"]'\u001b[0m \u001b[1;33m%\u001b[0m \u001b[0mvalue\u001b[0m\u001b[1;33m\u001b[0m\u001b[1;33m\u001b[0m\u001b[0m\n\u001b[1;32m--> 976\u001b[1;33m         return self.execute(Command.FIND_ELEMENT, {\n\u001b[0m\u001b[0;32m    977\u001b[0m             \u001b[1;34m'using'\u001b[0m\u001b[1;33m:\u001b[0m \u001b[0mby\u001b[0m\u001b[1;33m,\u001b[0m\u001b[1;33m\u001b[0m\u001b[1;33m\u001b[0m\u001b[0m\n\u001b[0;32m    978\u001b[0m             'value': value})['value']\n",
      "\u001b[1;32m~\\anaconda3\\lib\\site-packages\\selenium\\webdriver\\remote\\webdriver.py\u001b[0m in \u001b[0;36mexecute\u001b[1;34m(self, driver_command, params)\u001b[0m\n\u001b[0;32m    319\u001b[0m         \u001b[0mresponse\u001b[0m \u001b[1;33m=\u001b[0m \u001b[0mself\u001b[0m\u001b[1;33m.\u001b[0m\u001b[0mcommand_executor\u001b[0m\u001b[1;33m.\u001b[0m\u001b[0mexecute\u001b[0m\u001b[1;33m(\u001b[0m\u001b[0mdriver_command\u001b[0m\u001b[1;33m,\u001b[0m \u001b[0mparams\u001b[0m\u001b[1;33m)\u001b[0m\u001b[1;33m\u001b[0m\u001b[1;33m\u001b[0m\u001b[0m\n\u001b[0;32m    320\u001b[0m         \u001b[1;32mif\u001b[0m \u001b[0mresponse\u001b[0m\u001b[1;33m:\u001b[0m\u001b[1;33m\u001b[0m\u001b[1;33m\u001b[0m\u001b[0m\n\u001b[1;32m--> 321\u001b[1;33m             \u001b[0mself\u001b[0m\u001b[1;33m.\u001b[0m\u001b[0merror_handler\u001b[0m\u001b[1;33m.\u001b[0m\u001b[0mcheck_response\u001b[0m\u001b[1;33m(\u001b[0m\u001b[0mresponse\u001b[0m\u001b[1;33m)\u001b[0m\u001b[1;33m\u001b[0m\u001b[1;33m\u001b[0m\u001b[0m\n\u001b[0m\u001b[0;32m    322\u001b[0m             response['value'] = self._unwrap_value(\n\u001b[0;32m    323\u001b[0m                 response.get('value', None))\n",
      "\u001b[1;32m~\\anaconda3\\lib\\site-packages\\selenium\\webdriver\\remote\\errorhandler.py\u001b[0m in \u001b[0;36mcheck_response\u001b[1;34m(self, response)\u001b[0m\n\u001b[0;32m    240\u001b[0m                 \u001b[0malert_text\u001b[0m \u001b[1;33m=\u001b[0m \u001b[0mvalue\u001b[0m\u001b[1;33m[\u001b[0m\u001b[1;34m'alert'\u001b[0m\u001b[1;33m]\u001b[0m\u001b[1;33m.\u001b[0m\u001b[0mget\u001b[0m\u001b[1;33m(\u001b[0m\u001b[1;34m'text'\u001b[0m\u001b[1;33m)\u001b[0m\u001b[1;33m\u001b[0m\u001b[1;33m\u001b[0m\u001b[0m\n\u001b[0;32m    241\u001b[0m             \u001b[1;32mraise\u001b[0m \u001b[0mexception_class\u001b[0m\u001b[1;33m(\u001b[0m\u001b[0mmessage\u001b[0m\u001b[1;33m,\u001b[0m \u001b[0mscreen\u001b[0m\u001b[1;33m,\u001b[0m \u001b[0mstacktrace\u001b[0m\u001b[1;33m,\u001b[0m \u001b[0malert_text\u001b[0m\u001b[1;33m)\u001b[0m\u001b[1;33m\u001b[0m\u001b[1;33m\u001b[0m\u001b[0m\n\u001b[1;32m--> 242\u001b[1;33m         \u001b[1;32mraise\u001b[0m \u001b[0mexception_class\u001b[0m\u001b[1;33m(\u001b[0m\u001b[0mmessage\u001b[0m\u001b[1;33m,\u001b[0m \u001b[0mscreen\u001b[0m\u001b[1;33m,\u001b[0m \u001b[0mstacktrace\u001b[0m\u001b[1;33m)\u001b[0m\u001b[1;33m\u001b[0m\u001b[1;33m\u001b[0m\u001b[0m\n\u001b[0m\u001b[0;32m    243\u001b[0m \u001b[1;33m\u001b[0m\u001b[0m\n\u001b[0;32m    244\u001b[0m     \u001b[1;32mdef\u001b[0m \u001b[0m_value_or_default\u001b[0m\u001b[1;33m(\u001b[0m\u001b[0mself\u001b[0m\u001b[1;33m,\u001b[0m \u001b[0mobj\u001b[0m\u001b[1;33m,\u001b[0m \u001b[0mkey\u001b[0m\u001b[1;33m,\u001b[0m \u001b[0mdefault\u001b[0m\u001b[1;33m)\u001b[0m\u001b[1;33m:\u001b[0m\u001b[1;33m\u001b[0m\u001b[1;33m\u001b[0m\u001b[0m\n",
      "\u001b[1;31mWebDriverException\u001b[0m: Message: chrome not reachable\n  (Session info: chrome=92.0.4515.131)\n"
     ]
    }
   ],
   "source": [
    "# 여러 게시글 정보 수집하기\n",
    "\n",
    "from selenium import webdriver\n",
    "from bs4 import BeautifulSoup\n",
    "import time\n",
    "import re\n",
    "\n",
    "# 1. 크롬 브라우저 열기 및 로그인\n",
    "driver = webdriver.Chrome('c:/users/mindo/like_lion/oneday/chromedriver.exe')\n",
    "site = 'https://www.instagram.com/'\n",
    "driver.get(site)\n",
    "time.sleep(2)\n",
    "\n",
    "email = 'mindori1019@gmail.com'\n",
    "password = 'alswn4249!'\n",
    "instagram_login(email, password)\n",
    "\n",
    "# 2. 키워드 검색\n",
    "key_word = '원데이클래스'\n",
    "url = insta_searching(key_word)\n",
    "\n",
    "# 3. 검색 페이지 접속\n",
    "driver.get(url)\n",
    "time.sleep(4)\n",
    "\n",
    "# 4. 첫 번째 게시글 열기\n",
    "select_first(driver)\n",
    "\n",
    "# 5. 여러 게시물 수집하기\n",
    "results =[]\n",
    "\n",
    "target = 5  # 크롤링할 게시글 수\n",
    "for i in range(target):\n",
    "    try:\n",
    "        data = get_data(driver, i)\n",
    "        results.append(data)\n",
    "        move_next(driver)\n",
    "    except:\n",
    "        time.sleep(2)\n",
    "        move_next(driver)\n"
   ]
  },
  {
   "cell_type": "code",
   "execution_count": 12,
   "metadata": {},
   "outputs": [],
   "source": [
    "# 엑셀에 데이터 저장\n",
    "import pandas as pd\n",
    "\n",
    "results_df = pd.DataFrame(results)\n",
    "results_df.columns =  ['photo','name', 'userphoto', 'date', 'place', 'tags']\n",
    "results_df.to_excel('c:/users/mindo/like_lion/crawling_instagram.xlsx', index = False)"
   ]
  },
  {
   "cell_type": "code",
   "execution_count": null,
   "metadata": {},
   "outputs": [],
   "source": []
  }
 ],
 "metadata": {
  "kernelspec": {
   "display_name": "Python 3",
   "language": "python",
   "name": "python3"
  },
  "language_info": {
   "codemirror_mode": {
    "name": "ipython",
    "version": 3
   },
   "file_extension": ".py",
   "mimetype": "text/x-python",
   "name": "python",
   "nbconvert_exporter": "python",
   "pygments_lexer": "ipython3",
   "version": "3.8.3"
  }
 },
 "nbformat": 4,
 "nbformat_minor": 4
}
