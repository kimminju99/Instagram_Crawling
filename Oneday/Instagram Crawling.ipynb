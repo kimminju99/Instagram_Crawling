{
 "cells": [
  {
   "cell_type": "code",
   "execution_count": 5,
   "metadata": {},
   "outputs": [
    {
     "name": "stdout",
     "output_type": "stream",
     "text": [
      "Requirement already satisfied: selenium in c:\\users\\mindo\\anaconda3\\lib\\site-packages (3.141.0)\n",
      "Requirement already satisfied: urllib3 in c:\\users\\mindo\\anaconda3\\lib\\site-packages (from selenium) (1.25.9)\n"
     ]
    }
   ],
   "source": [
    "!pip install selenium"
   ]
  },
  {
   "cell_type": "code",
   "execution_count": 6,
   "metadata": {},
   "outputs": [],
   "source": [
    "# 키워드 검색\n",
    "def insta_searching(word):\n",
    "    url = 'https://www.instagram.com/explore/tags/'+word\n",
    "    return url"
   ]
  },
  {
   "cell_type": "code",
   "execution_count": 7,
   "metadata": {},
   "outputs": [],
   "source": [
    "# 첫 번째 게시물 클릭\n",
    "def select_first(driver):\n",
    "    first = driver.find_element_by_css_selector(\"div._9AhH0\")\n",
    "    first.click()\n",
    "    time.sleep(3)\n",
    "    \n",
    "#select_first(driver)"
   ]
  },
  {
   "cell_type": "code",
   "execution_count": 15,
   "metadata": {},
   "outputs": [],
   "source": [
    "# 다음 게시물 열기\n",
    "def move_next(driver):\n",
    "    right = driver.find_element_by_css_selector('a.coreSpriteRightPaginationArrow')\n",
    "    right.click()\n",
    "    time.sleep(3)\n",
    "    \n",
    "#move_next(driver)"
   ]
  },
  {
   "cell_type": "code",
   "execution_count": 8,
   "metadata": {},
   "outputs": [],
   "source": [
    "# 인스타그램 로그인\n",
    "def instagram_login(id,pw):\n",
    "    input_id = driver.find_elements_by_css_selector('input._2hvTZ.pexuQ.zyHYP')[0]\n",
    "    input_id.clear()\n",
    "    input_id.send_keys(id)\n",
    "\n",
    "    input_pw = driver.find_elements_by_css_selector('input._2hvTZ.pexuQ.zyHYP')[1]\n",
    "    input_pw.clear()\n",
    "    input_pw.send_keys(pw)\n",
    "    input_pw.submit()\n",
    "    time.sleep(3)\n",
    "    \n",
    "    driver.find_element_by_css_selector('.sqdOP.yWX7d.y3zKF').click()   #로그인정보 저장 '나중에 하기' 버튼 클릭\n",
    "    driver.find_element_by_css_selector('.aOOlW.HoLwm').click() #알림 설정 '나중에 하기' 버튼 클릭"
   ]
  },
  {
   "cell_type": "code",
   "execution_count": 124,
   "metadata": {},
   "outputs": [],
   "source": [
    "def check_category(content):\n",
    "    category = 0\n",
    "    \n",
    "    drawing = re.findall('드로잉|미술|화실|그림|캘리그라피', content)\n",
    "    cooking = re.search('요리|음료|푸드|커피', content)\n",
    "    baking = re.search('베이킹|디저트|케이크|마카롱|간식', content)\n",
    "    exercise = re.search('운동|건강|필라테스|요가', content)\n",
    "    craft = re.search('공예|라탄|가죽|인형|가방|자수|가방',content)\n",
    "    pottery = re.search('도예|도자기|글라스|세라믹|유리|그릇', content)\n",
    "    soap = re.search('비누|캔들|방향제|향수', content)\n",
    "    etc = re.search('사진|촬영|피아노|음악|꽃|원예', content)\n",
    "    \n",
    "    \n",
    "    if (drawing):\n",
    "        category = 1\n",
    "    elif (baking):\n",
    "        category = 3  # 베이킹이랑 요리랑 겹쳐서 순서 바꿨음\n",
    "    elif (cooking):\n",
    "        category = 2\n",
    "    elif (exercise):\n",
    "        category = 4\n",
    "    elif (craft):\n",
    "        category = 5\n",
    "    elif (pottery):\n",
    "        category = 6\n",
    "    elif (soap):\n",
    "        category = 7\n",
    "    elif (etc):\n",
    "        category = 8\n",
    "    else:\n",
    "        category = 0\n",
    "    \n",
    "    return category"
   ]
  },
  {
   "cell_type": "code",
   "execution_count": 125,
   "metadata": {},
   "outputs": [
    {
     "data": {
      "text/plain": [
       "'비누, 캔들'"
      ]
     },
     "execution_count": 125,
     "metadata": {},
     "output_type": "execute_result"
    }
   ],
   "source": [
    "CATEGORY = {1:'드로잉', 2:'요리, 음료', 3:'베이킹, 디저트', 4: '운동', 5:'공예', 6: '도예', 7:'비누, 캔들', 8:'기타', 0:'없음'}\n",
    "\n",
    "CATEGORY[7]"
   ]
  },
  {
   "cell_type": "code",
   "execution_count": 126,
   "metadata": {},
   "outputs": [],
   "source": [
    "# 게시물 정보 가져오기\n",
    "# 닉네임, 작성 일시, 위치 정보, 해시태그\n",
    "\n",
    "import re\n",
    "from bs4 import BeautifulSoup\n",
    "import unicodedata\n",
    "\n",
    "def get_data(driver, n):\n",
    "    # html 가져오기\n",
    "    html = driver.page_source\n",
    "    soup = BeautifulSoup(html, 'lxml')\n",
    "    \n",
    "    # 본문 내용 가져오기\n",
    "    try:\n",
    "        content = soup.select('div.C4VMK>span')[0].text\n",
    "        content = unicodedata.normalize('NFC', content)\n",
    "    except:\n",
    "        content = ''\n",
    "    \n",
    "    # 본문의 해시태그 가져오기\n",
    "    #tags= re.findall(r'#[^\\s,\\\\]+', content)\n",
    "\n",
    "    \n",
    "    # 작성 일자 정보 가져오기\n",
    "    date = soup.select('time.FH9sR.Nzb55')[0]['title']\n",
    "    \n",
    "    # 위치 정보 가져오기\n",
    "    try:\n",
    "        place = soup.select('div.JF9hh')[0].text\n",
    "        place = unicodedata.normalize('NFC', place)\n",
    "    except:\n",
    "        place = ''\n",
    "        \n",
    "    # 이름(사용자 이름) 가져오기\n",
    "    name = driver.find_element_by_css_selector(\".sqdOP.yWX7d._8A5w5.ZIAjV\").text\n",
    "    \n",
    "    #print(\"get_data : n = \", n)\n",
    "    # 사용자 사진 가져오기\n",
    "    userImgUrl = soup.select('div.Jv7Aj.mArmR.pZp3x')[0].img['src']\n",
    "    #print(userImgUrl)\n",
    "    #userImgUrl =''\n",
    "    \n",
    "    # 사진 가져오기\n",
    "    if (n >= 42): # 한번에 가져올 수 있는 사진 max 42개\n",
    "        n = n%42\n",
    "        driver.execute_script(\"window.scrollTo(0,document.body.scrollHeight);\")\n",
    "        time.sleep(2)\n",
    "        \n",
    "    imgUrl = soup.select('div.KL4Bh')[n].img['src']\n",
    "    #print(imgUrl)\n",
    "    #imgUrl =''\n",
    "    \n",
    "    # 카테고리 설정\n",
    "    try:\n",
    "        check = check_category(content)\n",
    "        category = CATEGORY[check]\n",
    "        time.sleep(3)\n",
    "    except Exception as e:\n",
    "        print(\"여기서 \", e)\n",
    "    \n",
    "#     if (category !=0):\n",
    "#         print(CATEGORY[category])\n",
    "        \n",
    "    # 수집한 정보 저장\n",
    "    #data = [category, imgUrl, name, userImgUrl, date, place, tags]\n",
    "    data = [category, imgUrl, name, userImgUrl, date, place]\n",
    "    \n",
    "    return data\n",
    "\n",
    "#get_data(driver, 1)"
   ]
  },
  {
   "cell_type": "code",
   "execution_count": 167,
   "metadata": {},
   "outputs": [],
   "source": [
    "# 2. 키워드 검색\n",
    "key_word = '원데이클래스'\n",
    "url = insta_searching(key_word)\n",
    "\n",
    "# 3. 검색 페이지 접속\n",
    "driver.get(url)\n",
    "time.sleep(4)\n",
    "\n",
    "# 4. 첫 번째 게시글 열기\n",
    "select_first(driver)"
   ]
  },
  {
   "cell_type": "code",
   "execution_count": 84,
   "metadata": {},
   "outputs": [
    {
     "name": "stdout",
     "output_type": "stream",
     "text": [
      "<div class=\"Jv7Aj mArmR pZp3x\"><div aria-disabled=\"true\" class=\"RR-M- mrq0Z\" role=\"button\" tabindex=\"-1\"><canvas class=\"CfWVH\" height=\"53\" style=\"position: absolute; top: -5px; left: -5px; width: 42px; height: 42px;\" width=\"53\"></canvas><a class=\"_2dbep qNELH kIKUG\" href=\"/biahn.soap/\" style=\"width: 32px; height: 32px;\" tabindex=\"0\"><img alt=\"biahn.soap님의 프로필 사진\" class=\"_6q-tv\" crossorigin=\"anonymous\" data-testid=\"user-avatar\" draggable=\"false\" src=\"https://scontent-gmp1-1.cdninstagram.com/v/t51.2885-19/s150x150/212629673_356187162583892_674493385143858772_n.jpg?_nc_ht=scontent-gmp1-1.cdninstagram.com&amp;_nc_ohc=nPkdTSZ0js0AX_FS5u-&amp;edm=AP_V10EBAAAA&amp;ccb=7-4&amp;oh=da6409db8d1251fca9ca8fd8a017b5cf&amp;oe=611913D1&amp;_nc_sid=4f375e\"/></a></div></div>\n",
      "https://scontent-gmp1-1.cdninstagram.com/v/t51.2885-19/s150x150/212629673_356187162583892_674493385143858772_n.jpg?_nc_ht=scontent-gmp1-1.cdninstagram.com&_nc_ohc=nPkdTSZ0js0AX_FS5u-&edm=AP_V10EBAAAA&ccb=7-4&oh=da6409db8d1251fca9ca8fd8a017b5cf&oe=611913D1&_nc_sid=4f375e\n"
     ]
    }
   ],
   "source": [
    "# html 가져오기\n",
    "html = driver.page_source\n",
    "soup = BeautifulSoup(html, 'lxml')\n",
    "\n",
    "# 사용자 사진 가져오기\n",
    "where = soup.select('div.Jv7Aj.mArmR.pZp3x')[0]\n",
    "print(where)\n",
    "for i in where:\n",
    "    userImgUrl = i.img['src']\n",
    "    print(userImgUrl)"
   ]
  },
  {
   "cell_type": "code",
   "execution_count": 107,
   "metadata": {},
   "outputs": [
    {
     "name": "stdout",
     "output_type": "stream",
     "text": [
      "215\n"
     ]
    }
   ],
   "source": [
    "# html 가져오기\n",
    "html = driver.page_source\n",
    "soup = BeautifulSoup(html, 'lxml')\n",
    "\n",
    "li = []\n",
    "# 사진 가져오기\n",
    "\n",
    "for scroll in range(5):\n",
    "    where = soup.select('div.KL4Bh')\n",
    "\n",
    "    #print(where)\n",
    "    for i in where:\n",
    "        imgUrl = i.img['src']\n",
    "        li.append(imgUrl)\n",
    "\n",
    "    driver.execute_script(\"window.scrollTo(0,document.body.scrollHeight);\")\n",
    "    time.sleep(2)\n",
    "print(len(li))"
   ]
  },
  {
   "cell_type": "code",
   "execution_count": 121,
   "metadata": {},
   "outputs": [
    {
     "name": "stdout",
     "output_type": "stream",
     "text": [
      "\n",
      "size :  89\n"
     ]
    }
   ],
   "source": [
    "# for i in results:\n",
    "#     print(i[0])\n",
    "    \n",
    "print(\"\\nsize : \", len(results))"
   ]
  },
  {
   "cell_type": "code",
   "execution_count": 115,
   "metadata": {},
   "outputs": [
    {
     "name": "stdout",
     "output_type": "stream",
     "text": [
      "0 :  mingmiraclegreen https://scontent-gmp1-1.cdninstagram.com/v/t51.2885-15/e35/p1080x1080/233564092_166647708789273_2773787315642028626_n.jpg?_nc_ht=scontent-gmp1-1.cdninstagram.com&_nc_cat=109&_nc_ohc=wCc4AIHhcUwAX-zfIWj&edm=AP_V10EBAAAA&ccb=7-4&oh=f67ef4db09045529def36bcc3f4c15e0&oe=611926B8&_nc_sid=4f375e\n",
      "1 :  ballet_jini https://scontent-gmp1-1.cdninstagram.com/v/t51.2885-15/sh0.08/e35/s640x640/233684886_2607636926208982_5287449811268705697_n.jpg?_nc_ht=scontent-gmp1-1.cdninstagram.com&_nc_cat=110&_nc_ohc=qBWW_IeN1hwAX_DqO_H&edm=APU89FABAAAA&ccb=7-4&oh=4534c221009bed77839125cb4bd151f4&oe=61174B26&_nc_sid=86f79a\n",
      "2 :  i_cd_i https://scontent-gmp1-1.cdninstagram.com/v/t51.2885-15/e35/233679785_4202144759900090_8464782836325507763_n.jpg?_nc_ht=scontent-gmp1-1.cdninstagram.com&_nc_cat=102&_nc_ohc=FrqpQ3bT2tEAX9ECHTJ&edm=AP_V10EBAAAA&ccb=7-4&oh=9c8e78263c62d54f7fc67112fd302ce5&oe=61180230&_nc_sid=4f375e\n",
      "3 :  on_the1f https://scontent-gmp1-1.cdninstagram.com/v/t51.2885-15/e35/s1080x1080/234136918_929415177611017_3495650214561329753_n.jpg?_nc_ht=scontent-gmp1-1.cdninstagram.com&_nc_cat=101&_nc_ohc=wNus6Y5grjQAX8qS83r&edm=AP_V10EBAAAA&ccb=7-4&oh=2916f91f9c6942af74202d1b1950b041&oe=6117A340&_nc_sid=4f375e\n",
      "4 :  dessertcafe.bonita https://scontent-gmp1-1.cdninstagram.com/v/t51.2885-15/e35/s1080x1080/233776726_632474544390726_4679127218739704780_n.jpg?_nc_ht=scontent-gmp1-1.cdninstagram.com&_nc_cat=106&_nc_ohc=s-Epn-njyXsAX937yq8&edm=AP_V10EBAAAA&ccb=7-4&oh=8d46cf2a408fc2285179e9c71f21e5a7&oe=61175B2F&_nc_sid=4f375e\n"
     ]
    }
   ],
   "source": [
    "from PIL import Image\n",
    "import requests\n",
    "\n",
    "for i in range(target):\n",
    "    imgUrl = results[i][1]\n",
    "    username = results[i][2]\n",
    "    print(i,\": \",username,imgUrl)\n",
    "\n",
    "    im = Image.open(urlopen(imgUrl))\n",
    "    im"
   ]
  },
  {
   "cell_type": "code",
   "execution_count": 117,
   "metadata": {},
   "outputs": [
    {
     "name": "stdout",
     "output_type": "stream",
     "text": [
      "0 :  https://scontent-gmp1-1.cdninstagram.com/v/t51.2885-15/e35/p1080x1080/233564092_166647708789273_2773787315642028626_n.jpg?_nc_ht=scontent-gmp1-1.cdninstagram.com&_nc_cat=109&_nc_ohc=wCc4AIHhcUwAX-zfIWj&edm=AP_V10EBAAAA&ccb=7-4&oh=f67ef4db09045529def36bcc3f4c15e0&oe=611926B8&_nc_sid=4f375e\n",
      "1 :  https://scontent-gmp1-1.cdninstagram.com/v/t51.2885-15/sh0.08/e35/s640x640/233684886_2607636926208982_5287449811268705697_n.jpg?_nc_ht=scontent-gmp1-1.cdninstagram.com&_nc_cat=110&_nc_ohc=qBWW_IeN1hwAX_DqO_H&edm=APU89FABAAAA&ccb=7-4&oh=4534c221009bed77839125cb4bd151f4&oe=61174B26&_nc_sid=86f79a\n",
      "2 :  https://scontent-gmp1-1.cdninstagram.com/v/t51.2885-15/e35/233679785_4202144759900090_8464782836325507763_n.jpg?_nc_ht=scontent-gmp1-1.cdninstagram.com&_nc_cat=102&_nc_ohc=FrqpQ3bT2tEAX9ECHTJ&edm=AP_V10EBAAAA&ccb=7-4&oh=9c8e78263c62d54f7fc67112fd302ce5&oe=61180230&_nc_sid=4f375e\n",
      "3 :  https://scontent-gmp1-1.cdninstagram.com/v/t51.2885-15/e35/s1080x1080/234136918_929415177611017_3495650214561329753_n.jpg?_nc_ht=scontent-gmp1-1.cdninstagram.com&_nc_cat=101&_nc_ohc=wNus6Y5grjQAX8qS83r&edm=AP_V10EBAAAA&ccb=7-4&oh=2916f91f9c6942af74202d1b1950b041&oe=6117A340&_nc_sid=4f375e\n",
      "4 :  https://scontent-gmp1-1.cdninstagram.com/v/t51.2885-15/e35/s1080x1080/233776726_632474544390726_4679127218739704780_n.jpg?_nc_ht=scontent-gmp1-1.cdninstagram.com&_nc_cat=106&_nc_ohc=s-Epn-njyXsAX937yq8&edm=AP_V10EBAAAA&ccb=7-4&oh=8d46cf2a408fc2285179e9c71f21e5a7&oe=61175B2F&_nc_sid=4f375e\n"
     ]
    }
   ],
   "source": [
    "from urllib.request import urlopen\n",
    "\n",
    "for i in range(target):\n",
    "    imgUrl = results[i][1]\n",
    "    print(i,\": \",imgUrl)\n",
    "    with urlopen(imgUrl) as f:\n",
    "        with open('./img/' + results[i][1] + str(i) + '.jpg', 'wb') as h:\n",
    "            img = f.read()\n",
    "            h.write(img)"
   ]
  },
  {
   "cell_type": "code",
   "execution_count": 122,
   "metadata": {},
   "outputs": [
    {
     "name": "stdout",
     "output_type": "stream",
     "text": [
      "0 :  https://scontent-gmp1-1.cdninstagram.com/v/t51.2885-19/s150x150/24127150_146214572807336_1879551480562712576_n.jpg?_nc_ht=scontent-gmp1-1.cdninstagram.com&_nc_ohc=yxhA26mMRQYAX8SMEyI&edm=AP_V10EBAAAA&ccb=7-4&oh=6d91fbb00d6aa529a0ae6f245674a261&oe=611889C5&_nc_sid=4f375e\n",
      "1 :  https://scontent-gmp1-1.cdninstagram.com/v/t51.2885-19/s150x150/191204484_499943227916304_7848707498602884047_n.jpg?_nc_ht=scontent-gmp1-1.cdninstagram.com&_nc_ohc=ymGWqv8ONyAAX89Heez&edm=AP_V10EBAAAA&ccb=7-4&oh=3d35b1a026cd4ba218eaa97bfa16f738&oe=6117F6EF&_nc_sid=4f375e\n",
      "2 :  https://scontent-gmp1-1.cdninstagram.com/v/t51.2885-19/s150x150/157267203_127317015980071_3131037788886948735_n.jpg?_nc_ht=scontent-gmp1-1.cdninstagram.com&_nc_ohc=XMprA9fptEcAX_4Alf7&edm=AP_V10EBAAAA&ccb=7-4&oh=00ef0f1a5c78ef1b4803f0eea4d4fd6b&oe=6118E73D&_nc_sid=4f375e\n",
      "3 :  https://scontent-gmp1-1.cdninstagram.com/v/t51.2885-19/s150x150/132005602_1647893762068942_4854535290532724068_n.jpg?_nc_ht=scontent-gmp1-1.cdninstagram.com&_nc_ohc=9XuOm3ev2LAAX-bbqJu&edm=AP_V10EBAAAA&ccb=7-4&oh=123750ae742c414c0551f4a855d757ab&oe=6118BCAE&_nc_sid=4f375e\n",
      "4 :  https://scontent-gmp1-1.cdninstagram.com/v/t51.2885-19/s150x150/185347935_466148481345189_6850236599952618029_n.jpg?_nc_ht=scontent-gmp1-1.cdninstagram.com&_nc_ohc=cVd9H9vaYH0AX_JYG5g&tn=npVBCKbCYjHKO1BL&edm=AP_V10EBAAAA&ccb=7-4&oh=103cae3341edaf4a9e75c223cc8535d1&oe=61183AC8&_nc_sid=4f375e\n"
     ]
    }
   ],
   "source": [
    "for i in range(target):\n",
    "    userImgUrl = results[i][3]\n",
    "    print(i,\": \",userImgUrl)\n",
    "    with urlopen(userImgUrl) as f:\n",
    "        with open('./user/' + 'user_'+results[i][1] + str(i) + '.jpg', 'wb') as h:\n",
    "            img = f.read()\n",
    "            h.write(img)"
   ]
  },
  {
   "cell_type": "code",
   "execution_count": 127,
   "metadata": {},
   "outputs": [
    {
     "name": "stdout",
     "output_type": "stream",
     "text": [
      "0  :  베이킹, 디저트\n",
      "1  :  비누, 캔들\n",
      "2  :  운동\n",
      "3  :  운동\n",
      "4  :  비누, 캔들\n"
     ]
    }
   ],
   "source": [
    "# 여러 게시글 정보 수집하기\n",
    "\n",
    "from selenium import webdriver\n",
    "from bs4 import BeautifulSoup\n",
    "import time\n",
    "import re\n",
    "\n",
    "# 1. 크롬 브라우저 열기 및 로그인\n",
    "driver = webdriver.Chrome('c:/users/mindo/like_lion/oneday/chromedriver.exe')\n",
    "site = 'https://www.instagram.com/'\n",
    "driver.get(site)\n",
    "time.sleep(2)\n",
    "\n",
    "email = 'mindori1019@gmail.com'\n",
    "password = 'alswn4249!'\n",
    "instagram_login(email, password)\n",
    "\n",
    "# 2. 키워드 검색\n",
    "key_word = '원데이클래스'\n",
    "url = insta_searching(key_word)\n",
    "\n",
    "# 3. 검색 페이지 접속\n",
    "driver.get(url)\n",
    "time.sleep(4)\n",
    "\n",
    "# 4. 첫 번째 게시글 열기\n",
    "select_first(driver)\n",
    "\n",
    "# 5. 여러 게시물 수집하기\n",
    "results =[]\n",
    "\n",
    "target = 5  # 크롤링할 게시글 수\n",
    "for i in range(target):\n",
    "    try:\n",
    "        data = get_data(driver, i)\n",
    "        if (data[0] == 0):\n",
    "            move_next(driver)\n",
    "        else:\n",
    "            results.append(data)\n",
    "            move_next(driver)\n",
    "        \n",
    "        #print(data[3])\n",
    "        \n",
    "#     except Exception as e:\n",
    "#         print(\"예외?? \",e)\n",
    "#         time.sleep(5)\n",
    "#         move_next(driver)\n",
    "    finally:\n",
    "        print(i,\" : \", data[0]) \n"
   ]
  },
  {
   "cell_type": "code",
   "execution_count": 145,
   "metadata": {
    "scrolled": true
   },
   "outputs": [
    {
     "name": "stdout",
     "output_type": "stream",
     "text": [
      "0  :  기타\n",
      "1  :  기타\n",
      "2  :  없음\n",
      "3  :  기타\n",
      "4  :  공예\n",
      "5  :  공예\n",
      "6  :  기타\n",
      "7  :  없음\n",
      "8  :  기타\n",
      "9  :  베이킹, 디저트\n",
      "10  :  없음\n",
      "11  :  도예\n",
      "12  :  기타\n",
      "13  :  베이킹, 디저트\n",
      "14  :  기타\n",
      "15  :  베이킹, 디저트\n",
      "16  :  없음\n",
      "17  :  드로잉\n",
      "18  :  베이킹, 디저트\n",
      "19  :  없음\n",
      "20  :  베이킹, 디저트\n",
      "21  :  없음\n",
      "22  :  기타\n",
      "23  :  기타\n",
      "24  :  없음\n",
      "25  :  베이킹, 디저트\n",
      "26  :  없음\n",
      "27  :  기타\n",
      "28  :  없음\n",
      "29  :  공예\n",
      "30  :  비누, 캔들\n",
      "31  :  드로잉\n",
      "32  :  베이킹, 디저트\n",
      "33  :  베이킹, 디저트\n",
      "34  :  없음\n",
      "35  :  공예\n",
      "36  :  도예\n",
      "37  :  없음\n",
      "38  :  공예\n",
      "39  :  없음\n",
      "40  :  없음\n",
      "41  :  베이킹, 디저트\n",
      "42  :  기타\n",
      "43  :  없음\n",
      "44  :  공예\n",
      "45  :  비누, 캔들\n",
      "46  :  기타\n",
      "47  :  비누, 캔들\n",
      "48  :  없음\n",
      "49  :  공예\n",
      "50  :  요리, 음료\n",
      "51  :  도예\n",
      "52  :  베이킹, 디저트\n",
      "53  :  기타\n",
      "54  :  베이킹, 디저트\n",
      "55  :  없음\n",
      "56  :  없음\n",
      "57  :  기타\n",
      "58  :  기타\n",
      "59  :  기타\n",
      "60  :  기타\n",
      "61  :  공예\n",
      "62  :  기타\n",
      "63  :  운동\n",
      "64  :  베이킹, 디저트\n",
      "65  :  없음\n",
      "66  :  비누, 캔들\n",
      "67  :  기타\n",
      "68  :  공예\n",
      "69  :  기타\n",
      "70  :  없음\n",
      "71  :  없음\n",
      "72  :  베이킹, 디저트\n",
      "73  :  비누, 캔들\n",
      "74  :  도예\n",
      "75  :  없음\n",
      "76  :  없음\n",
      "77  :  기타\n",
      "78  :  없음\n",
      "79  :  베이킹, 디저트\n",
      "80  :  기타\n",
      "81  :  기타\n",
      "82  :  베이킹, 디저트\n",
      "83  :  기타\n",
      "84  :  기타\n",
      "85  :  베이킹, 디저트\n",
      "86  :  기타\n",
      "87  :  없음\n",
      "88  :  없음\n",
      "89  :  없음\n",
      "90  :  공예\n",
      "91  :  베이킹, 디저트\n",
      "92  :  없음\n",
      "93  :  없음\n",
      "94  :  베이킹, 디저트\n",
      "95  :  없음\n",
      "96  :  베이킹, 디저트\n",
      "97  :  없음\n",
      "98  :  기타\n",
      "99  :  없음\n",
      "100  :  도예\n",
      "101  :  없음\n",
      "102  :  없음\n",
      "103  :  없음\n",
      "104  :  베이킹, 디저트\n",
      "105  :  베이킹, 디저트\n",
      "106  :  베이킹, 디저트\n",
      "107  :  베이킹, 디저트\n",
      "108  :  베이킹, 디저트\n",
      "109  :  없음\n",
      "110  :  없음\n",
      "111  :  베이킹, 디저트\n",
      "112  :  드로잉\n",
      "113  :  없음\n",
      "114  :  공예\n",
      "115  :  드로잉\n",
      "116  :  베이킹, 디저트\n",
      "117  :  없음\n",
      "118  :  기타\n",
      "119  :  비누, 캔들\n",
      "120  :  없음\n",
      "121  :  없음\n",
      "122  :  드로잉\n",
      "123  :  없음\n",
      "124  :  드로잉\n",
      "125  :  요리, 음료\n",
      "126  :  없음\n",
      "127  :  기타\n",
      "128  :  베이킹, 디저트\n",
      "129  :  드로잉\n",
      "130  :  없음\n",
      "131  :  없음\n",
      "132  :  없음\n",
      "133  :  베이킹, 디저트\n",
      "134  :  베이킹, 디저트\n",
      "135  :  기타\n",
      "136  :  없음\n",
      "137  :  없음\n"
     ]
    },
    {
     "ename": "KeyboardInterrupt",
     "evalue": "",
     "output_type": "error",
     "traceback": [
      "\u001b[1;31m---------------------------------------------------------------------------\u001b[0m",
      "\u001b[1;31mKeyboardInterrupt\u001b[0m                         Traceback (most recent call last)",
      "\u001b[1;32m<ipython-input-145-810d8806603d>\u001b[0m in \u001b[0;36m<module>\u001b[1;34m\u001b[0m\n\u001b[0;32m      5\u001b[0m \u001b[1;32mfor\u001b[0m \u001b[0mi\u001b[0m \u001b[1;32min\u001b[0m \u001b[0mrange\u001b[0m\u001b[1;33m(\u001b[0m\u001b[0mtarget\u001b[0m\u001b[1;33m)\u001b[0m\u001b[1;33m:\u001b[0m\u001b[1;33m\u001b[0m\u001b[1;33m\u001b[0m\u001b[0m\n\u001b[0;32m      6\u001b[0m     \u001b[1;32mtry\u001b[0m\u001b[1;33m:\u001b[0m\u001b[1;33m\u001b[0m\u001b[1;33m\u001b[0m\u001b[0m\n\u001b[1;32m----> 7\u001b[1;33m         \u001b[0mdata\u001b[0m \u001b[1;33m=\u001b[0m \u001b[0mget_data\u001b[0m\u001b[1;33m(\u001b[0m\u001b[0mdriver\u001b[0m\u001b[1;33m,\u001b[0m \u001b[0mi\u001b[0m\u001b[1;33m)\u001b[0m\u001b[1;33m\u001b[0m\u001b[1;33m\u001b[0m\u001b[0m\n\u001b[0m\u001b[0;32m      8\u001b[0m         \u001b[1;32mif\u001b[0m \u001b[1;33m(\u001b[0m\u001b[0mdata\u001b[0m\u001b[1;33m[\u001b[0m\u001b[1;36m0\u001b[0m\u001b[1;33m]\u001b[0m \u001b[1;33m==\u001b[0m \u001b[1;34m'없음'\u001b[0m\u001b[1;33m)\u001b[0m\u001b[1;33m:\u001b[0m\u001b[1;33m\u001b[0m\u001b[1;33m\u001b[0m\u001b[0m\n\u001b[0;32m      9\u001b[0m             \u001b[0mmove_next\u001b[0m\u001b[1;33m(\u001b[0m\u001b[0mdriver\u001b[0m\u001b[1;33m)\u001b[0m\u001b[1;33m\u001b[0m\u001b[1;33m\u001b[0m\u001b[0m\n",
      "\u001b[1;32m<ipython-input-126-cf110330b269>\u001b[0m in \u001b[0;36mget_data\u001b[1;34m(driver, n)\u001b[0m\n\u001b[0;32m     45\u001b[0m         \u001b[0mn\u001b[0m \u001b[1;33m=\u001b[0m \u001b[0mn\u001b[0m\u001b[1;33m%\u001b[0m\u001b[1;36m42\u001b[0m\u001b[1;33m\u001b[0m\u001b[1;33m\u001b[0m\u001b[0m\n\u001b[0;32m     46\u001b[0m         \u001b[0mdriver\u001b[0m\u001b[1;33m.\u001b[0m\u001b[0mexecute_script\u001b[0m\u001b[1;33m(\u001b[0m\u001b[1;34m\"window.scrollTo(0,document.body.scrollHeight);\"\u001b[0m\u001b[1;33m)\u001b[0m\u001b[1;33m\u001b[0m\u001b[1;33m\u001b[0m\u001b[0m\n\u001b[1;32m---> 47\u001b[1;33m         \u001b[0mtime\u001b[0m\u001b[1;33m.\u001b[0m\u001b[0msleep\u001b[0m\u001b[1;33m(\u001b[0m\u001b[1;36m2\u001b[0m\u001b[1;33m)\u001b[0m\u001b[1;33m\u001b[0m\u001b[1;33m\u001b[0m\u001b[0m\n\u001b[0m\u001b[0;32m     48\u001b[0m \u001b[1;33m\u001b[0m\u001b[0m\n\u001b[0;32m     49\u001b[0m     \u001b[0mimgUrl\u001b[0m \u001b[1;33m=\u001b[0m \u001b[0msoup\u001b[0m\u001b[1;33m.\u001b[0m\u001b[0mselect\u001b[0m\u001b[1;33m(\u001b[0m\u001b[1;34m'div.KL4Bh'\u001b[0m\u001b[1;33m)\u001b[0m\u001b[1;33m[\u001b[0m\u001b[0mn\u001b[0m\u001b[1;33m]\u001b[0m\u001b[1;33m.\u001b[0m\u001b[0mimg\u001b[0m\u001b[1;33m[\u001b[0m\u001b[1;34m'src'\u001b[0m\u001b[1;33m]\u001b[0m\u001b[1;33m\u001b[0m\u001b[1;33m\u001b[0m\u001b[0m\n",
      "\u001b[1;31mKeyboardInterrupt\u001b[0m: "
     ]
    }
   ],
   "source": [
    "# 5. 여러 게시물 수집하기\n",
    "results =[]\n",
    "\n",
    "target = 200  # 크롤링할 게시글 수\n",
    "for i in range(target):\n",
    "    try:\n",
    "        data = get_data(driver, i)\n",
    "        if (data[0] == '없음'):\n",
    "            move_next(driver)\n",
    "        elif (data[-1] == ''):\n",
    "            #print('장소가 없어여')\n",
    "            move_next(driver)\n",
    "        else:\n",
    "            results.append(data)\n",
    "            move_next(driver)\n",
    "        \n",
    "        #print(data[3])\n",
    "        \n",
    "    except Exception as e:\n",
    "        print(\"예외?? \",e)\n",
    "        time.sleep(5)\n",
    "        move_next(driver)\n",
    "    finally:\n",
    "        print(i,\" : \", data[0]) "
   ]
  },
  {
   "cell_type": "code",
   "execution_count": 144,
   "metadata": {},
   "outputs": [
    {
     "name": "stdout",
     "output_type": "stream",
     "text": [
      "['비누, 캔들', 'https://scontent-gmp1-1.cdninstagram.com/v/t51.2885-15/e35/235452436_191038883010640_318123959386751631_n.jpg?_nc_ht=scontent-gmp1-1.cdninstagram.com&_nc_cat=104&_nc_ohc=iLEJVh0CTE4AX_3xYod&edm=AMKDjl4BAAAA&ccb=7-4&oh=cb8575a5db740a74a1768b3caf64cc64&oe=6119F3A9&_nc_sid=1fe099&ig_cache_key=MjYzNjc3Njc2Njg3Mzg4MjI2OQ%3D%3D.2-ccb7-4', 'ang_yul', 'https://scontent-gmp1-1.cdninstagram.com/v/t51.2885-19/s150x150/110328572_211943336809538_3858693936088303740_n.jpg?_nc_ht=scontent-gmp1-1.cdninstagram.com&_nc_ohc=W8O2eOAWGYwAX-4J8Cu&edm=AP_V10EBAAAA&ccb=7-4&oh=5ce3b42e8dcd33da032d489c1f463978&oe=6118443D&_nc_sid=4f375e', '2021년 8월 10일', '모란역']\n",
      "['비누, 캔들', 'https://scontent-gmp1-1.cdninstagram.com/v/t51.2885-15/e35/p1080x1080/233463313_218928906699320_2118969279481270306_n.jpg?_nc_ht=scontent-gmp1-1.cdninstagram.com&_nc_cat=108&_nc_ohc=4hPtjgZloZAAX_Wfp4i&tn=IS_E9HmOyUFgjAcX&edm=AP_V10EBAAAA&ccb=7-4&oh=366a4d37593bf0e2cec372bb52168336&oe=6118848C&_nc_sid=4f375e', 'ovu_____', 'https://scontent-gmp1-1.cdninstagram.com/v/t51.2885-19/s150x150/162189828_277877960448430_4200075300939339646_n.jpg?_nc_ht=scontent-gmp1-1.cdninstagram.com&_nc_ohc=CldcjSnPu-QAX_x-IEE&edm=AP_V10EBAAAA&ccb=7-4&oh=e59c041be16a45a02084c7f9982a44aa&oe=61188D92&_nc_sid=4f375e', '2021년 8월 10일', 'Daegu, South Korea']\n"
     ]
    }
   ],
   "source": [
    "for i in results:\n",
    "    print(i)"
   ]
  },
  {
   "cell_type": "code",
   "execution_count": 132,
   "metadata": {},
   "outputs": [],
   "source": [
    "# 엑셀에 데이터 저장\n",
    "import pandas as pd\n",
    "\n",
    "results_df = pd.DataFrame(results)\n",
    "results_df.columns =  ['category','photo','name', 'userphoto', 'date', 'place']\n",
    "results_df.to_excel('c:/users/mindo/like_lion/oneday/Oneday_category2.xlsx', index = False)"
   ]
  },
  {
   "cell_type": "code",
   "execution_count": 44,
   "metadata": {},
   "outputs": [
    {
     "name": "stdout",
     "output_type": "stream",
     "text": [
      "물레원데이클래스 완성작 #미니화병 🌸돌아가는 물레위에서 붓결을 내주고 싶어 하셨는데, 결과물을 보니 아주 잘 내주셨어요👏🏻 ...#물레수업 #도자기공방 #인천도자기공방#온더테이블 #주말데이트 #도자기원데이클래스 #도예공방 #인천데이트 #고유포터리 #일상 #물레체험 #인천데이트 #원데이클래스 #커플원데이클래스 #도자기원데이 #커플데이트 #좋아요 #주말체험 #인천데이트코스 #이색데이트 #인천취미 #인천 #도예원데이클래스 #도예체험 #인천공방 #구월동공방 #구월동 #물레원데이클래스 #코로나데이트 #코로나\n"
     ]
    }
   ],
   "source": [
    "\n",
    "# html 가져오기\n",
    "html = driver.page_source\n",
    "soup = BeautifulSoup(html, 'lxml')\n",
    "    \n",
    "# 본문 내용 가져오기\n",
    "try:\n",
    "    content = soup.select('div.C4VMK>span')[0].text\n",
    "    content = unicodedata.normalize('NFC', content)\n",
    "except:\n",
    "    content = ''\n",
    "    \n",
    "# 본문의 해시태그 가져오기\n",
    "tags= re.findall(r'#[^\\s,\\\\]+', content)\n",
    "    \n",
    "print(content)"
   ]
  },
  {
   "cell_type": "code",
   "execution_count": 45,
   "metadata": {},
   "outputs": [
    {
     "name": "stdout",
     "output_type": "stream",
     "text": [
      "6\n",
      "도예\n"
     ]
    }
   ],
   "source": [
    "c = check_category(content)\n",
    "print(c)\n",
    "print(CATEGORY[c])"
   ]
  },
  {
   "cell_type": "code",
   "execution_count": 156,
   "metadata": {},
   "outputs": [
    {
     "name": "stdout",
     "output_type": "stream",
     "text": [
      "['쿠킹', '베이킹']\n"
     ]
    }
   ],
   "source": [
    "import re\n",
    "\n",
    "soap = re.findall('베이킹|쿠킹',content)\n",
    "\n",
    "if (soap):\n",
    "    print(soap)\n",
    "else:\n",
    "    print(\"None\")\n",
    "    \n",
    "\n",
    "# 카테고리 0-9 설정해서 백엔드에 드리면 가능한가?"
   ]
  },
  {
   "cell_type": "code",
   "execution_count": null,
   "metadata": {},
   "outputs": [],
   "source": []
  }
 ],
 "metadata": {
  "kernelspec": {
   "display_name": "Python 3",
   "language": "python",
   "name": "python3"
  },
  "language_info": {
   "codemirror_mode": {
    "name": "ipython",
    "version": 3
   },
   "file_extension": ".py",
   "mimetype": "text/x-python",
   "name": "python",
   "nbconvert_exporter": "python",
   "pygments_lexer": "ipython3",
   "version": "3.8.3"
  }
 },
 "nbformat": 4,
 "nbformat_minor": 4
}
